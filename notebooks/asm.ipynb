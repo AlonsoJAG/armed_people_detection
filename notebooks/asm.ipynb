{
 "cells": [
  {
   "cell_type": "code",
   "execution_count": 3,
   "id": "5d87e640",
   "metadata": {},
   "outputs": [],
   "source": [
    "import pickle\n",
    "import numpy as np\n",
    "import pandas as pd\n",
    "import matplotlib.pyplot as plt\n",
    "%matplotlib inline"
   ]
  },
  {
   "cell_type": "code",
   "execution_count": 4,
   "id": "95600074",
   "metadata": {
    "scrolled": false
   },
   "outputs": [
    {
     "data": {
      "text/html": [
       "<div>\n",
       "<style scoped>\n",
       "    .dataframe tbody tr th:only-of-type {\n",
       "        vertical-align: middle;\n",
       "    }\n",
       "\n",
       "    .dataframe tbody tr th {\n",
       "        vertical-align: top;\n",
       "    }\n",
       "\n",
       "    .dataframe thead th {\n",
       "        text-align: right;\n",
       "    }\n",
       "</style>\n",
       "<table border=\"1\" class=\"dataframe\">\n",
       "  <thead>\n",
       "    <tr style=\"text-align: right;\">\n",
       "      <th></th>\n",
       "      <th>Frame</th>\n",
       "      <th>N_Person</th>\n",
       "      <th>Xcenter</th>\n",
       "      <th>Ycenter</th>\n",
       "      <th>PerXmin</th>\n",
       "      <th>PerYmin</th>\n",
       "      <th>PerXmax</th>\n",
       "      <th>PerYmax</th>\n",
       "      <th>N_Handgun</th>\n",
       "      <th>HgXcenter</th>\n",
       "      <th>...</th>\n",
       "      <th>HgYmin</th>\n",
       "      <th>HgXmax</th>\n",
       "      <th>HgYmax</th>\n",
       "      <th>Intersection</th>\n",
       "      <th>Included_Center</th>\n",
       "      <th>Intersection_Area</th>\n",
       "      <th>Hg_Area</th>\n",
       "      <th>Distance</th>\n",
       "      <th>Ground_Truth</th>\n",
       "      <th>GT</th>\n",
       "    </tr>\n",
       "  </thead>\n",
       "  <tbody>\n",
       "    <tr>\n",
       "      <th>0</th>\n",
       "      <td>0</td>\n",
       "      <td>0</td>\n",
       "      <td>474.999451</td>\n",
       "      <td>309.582947</td>\n",
       "      <td>395.377251</td>\n",
       "      <td>156.402725</td>\n",
       "      <td>554.621651</td>\n",
       "      <td>462.763168</td>\n",
       "      <td>0</td>\n",
       "      <td>409.881988</td>\n",
       "      <td>...</td>\n",
       "      <td>176.115577</td>\n",
       "      <td>425.699604</td>\n",
       "      <td>203.980340</td>\n",
       "      <td>Center_left</td>\n",
       "      <td>1</td>\n",
       "      <td>844.925198</td>\n",
       "      <td>881.508223</td>\n",
       "      <td>136.120892</td>\n",
       "      <td>1</td>\n",
       "      <td>mlp17</td>\n",
       "    </tr>\n",
       "    <tr>\n",
       "      <th>1</th>\n",
       "      <td>0</td>\n",
       "      <td>1</td>\n",
       "      <td>338.124817</td>\n",
       "      <td>308.649231</td>\n",
       "      <td>279.351261</td>\n",
       "      <td>157.656418</td>\n",
       "      <td>396.898373</td>\n",
       "      <td>459.642044</td>\n",
       "      <td>0</td>\n",
       "      <td>409.881988</td>\n",
       "      <td>...</td>\n",
       "      <td>176.115577</td>\n",
       "      <td>425.699604</td>\n",
       "      <td>203.980340</td>\n",
       "      <td>Up_right</td>\n",
       "      <td>0</td>\n",
       "      <td>78.968729</td>\n",
       "      <td>881.508223</td>\n",
       "      <td>138.619456</td>\n",
       "      <td>0</td>\n",
       "      <td>mlp10</td>\n",
       "    </tr>\n",
       "    <tr>\n",
       "      <th>2</th>\n",
       "      <td>1</td>\n",
       "      <td>0</td>\n",
       "      <td>474.938843</td>\n",
       "      <td>309.623566</td>\n",
       "      <td>395.161308</td>\n",
       "      <td>156.591705</td>\n",
       "      <td>554.716377</td>\n",
       "      <td>462.655426</td>\n",
       "      <td>0</td>\n",
       "      <td>409.638031</td>\n",
       "      <td>...</td>\n",
       "      <td>176.050999</td>\n",
       "      <td>425.668627</td>\n",
       "      <td>203.878841</td>\n",
       "      <td>Center_left</td>\n",
       "      <td>1</td>\n",
       "      <td>848.952861</td>\n",
       "      <td>892.193796</td>\n",
       "      <td>136.317231</td>\n",
       "      <td>1</td>\n",
       "      <td>mlp17</td>\n",
       "    </tr>\n",
       "    <tr>\n",
       "      <th>3</th>\n",
       "      <td>1</td>\n",
       "      <td>1</td>\n",
       "      <td>338.274475</td>\n",
       "      <td>308.534027</td>\n",
       "      <td>279.539314</td>\n",
       "      <td>157.674393</td>\n",
       "      <td>397.009636</td>\n",
       "      <td>459.393662</td>\n",
       "      <td>0</td>\n",
       "      <td>409.638031</td>\n",
       "      <td>...</td>\n",
       "      <td>176.050999</td>\n",
       "      <td>425.668627</td>\n",
       "      <td>203.878841</td>\n",
       "      <td>Up_right</td>\n",
       "      <td>0</td>\n",
       "      <td>94.675906</td>\n",
       "      <td>892.193796</td>\n",
       "      <td>138.388548</td>\n",
       "      <td>0</td>\n",
       "      <td>mlp10</td>\n",
       "    </tr>\n",
       "    <tr>\n",
       "      <th>4</th>\n",
       "      <td>2</td>\n",
       "      <td>0</td>\n",
       "      <td>475.070465</td>\n",
       "      <td>309.475372</td>\n",
       "      <td>395.484291</td>\n",
       "      <td>156.138077</td>\n",
       "      <td>554.656639</td>\n",
       "      <td>462.812668</td>\n",
       "      <td>0</td>\n",
       "      <td>409.610718</td>\n",
       "      <td>...</td>\n",
       "      <td>175.932056</td>\n",
       "      <td>425.627609</td>\n",
       "      <td>203.722820</td>\n",
       "      <td>Center_left</td>\n",
       "      <td>1</td>\n",
       "      <td>837.705837</td>\n",
       "      <td>890.243298</td>\n",
       "      <td>136.384041</td>\n",
       "      <td>1</td>\n",
       "      <td>mlp17</td>\n",
       "    </tr>\n",
       "  </tbody>\n",
       "</table>\n",
       "<p>5 rows × 22 columns</p>\n",
       "</div>"
      ],
      "text/plain": [
       "   Frame  N_Person     Xcenter     Ycenter     PerXmin     PerYmin  \\\n",
       "0      0         0  474.999451  309.582947  395.377251  156.402725   \n",
       "1      0         1  338.124817  308.649231  279.351261  157.656418   \n",
       "2      1         0  474.938843  309.623566  395.161308  156.591705   \n",
       "3      1         1  338.274475  308.534027  279.539314  157.674393   \n",
       "4      2         0  475.070465  309.475372  395.484291  156.138077   \n",
       "\n",
       "      PerXmax     PerYmax  N_Handgun   HgXcenter  ...      HgYmin      HgXmax  \\\n",
       "0  554.621651  462.763168          0  409.881988  ...  176.115577  425.699604   \n",
       "1  396.898373  459.642044          0  409.881988  ...  176.115577  425.699604   \n",
       "2  554.716377  462.655426          0  409.638031  ...  176.050999  425.668627   \n",
       "3  397.009636  459.393662          0  409.638031  ...  176.050999  425.668627   \n",
       "4  554.656639  462.812668          0  409.610718  ...  175.932056  425.627609   \n",
       "\n",
       "       HgYmax  Intersection  Included_Center Intersection_Area     Hg_Area  \\\n",
       "0  203.980340   Center_left                1        844.925198  881.508223   \n",
       "1  203.980340      Up_right                0         78.968729  881.508223   \n",
       "2  203.878841   Center_left                1        848.952861  892.193796   \n",
       "3  203.878841      Up_right                0         94.675906  892.193796   \n",
       "4  203.722820   Center_left                1        837.705837  890.243298   \n",
       "\n",
       "     Distance  Ground_Truth     GT  \n",
       "0  136.120892             1  mlp17  \n",
       "1  138.619456             0  mlp10  \n",
       "2  136.317231             1  mlp17  \n",
       "3  138.388548             0  mlp10  \n",
       "4  136.384041             1  mlp17  \n",
       "\n",
       "[5 rows x 22 columns]"
      ]
     },
     "execution_count": 4,
     "metadata": {},
     "output_type": "execute_result"
    }
   ],
   "source": [
    "df = pd.read_csv('asm.csv')\n",
    "df.head()"
   ]
  },
  {
   "cell_type": "code",
   "execution_count": 5,
   "id": "8ae1ff95",
   "metadata": {},
   "outputs": [
    {
     "data": {
      "text/plain": [
       "12652"
      ]
     },
     "execution_count": 5,
     "metadata": {},
     "output_type": "execute_result"
    }
   ],
   "source": [
    "len(df)"
   ]
  },
  {
   "cell_type": "code",
   "execution_count": 6,
   "id": "9ac6c889",
   "metadata": {
    "scrolled": true
   },
   "outputs": [
    {
     "name": "stdout",
     "output_type": "stream",
     "text": [
      "<class 'pandas.core.frame.DataFrame'>\n",
      "RangeIndex: 12652 entries, 0 to 12651\n",
      "Data columns (total 22 columns):\n",
      " #   Column             Non-Null Count  Dtype  \n",
      "---  ------             --------------  -----  \n",
      " 0   Frame              12652 non-null  int64  \n",
      " 1   N_Person           12652 non-null  int64  \n",
      " 2   Xcenter            12652 non-null  float64\n",
      " 3   Ycenter            12652 non-null  float64\n",
      " 4   PerXmin            12652 non-null  float64\n",
      " 5   PerYmin            12652 non-null  float64\n",
      " 6   PerXmax            12652 non-null  float64\n",
      " 7   PerYmax            12652 non-null  float64\n",
      " 8   N_Handgun          12652 non-null  int64  \n",
      " 9   HgXcenter          12652 non-null  float64\n",
      " 10  HgYcenter          12652 non-null  float64\n",
      " 11  HgXmin             12652 non-null  float64\n",
      " 12  HgYmin             12652 non-null  float64\n",
      " 13  HgXmax             12652 non-null  float64\n",
      " 14  HgYmax             12652 non-null  float64\n",
      " 15  Intersection       12652 non-null  object \n",
      " 16  Included_Center    12652 non-null  int64  \n",
      " 17  Intersection_Area  12652 non-null  float64\n",
      " 18  Hg_Area            12652 non-null  float64\n",
      " 19  Distance           12652 non-null  float64\n",
      " 20  Ground_Truth       12652 non-null  int64  \n",
      " 21  GT                 12652 non-null  object \n",
      "dtypes: float64(15), int64(5), object(2)\n",
      "memory usage: 2.1+ MB\n"
     ]
    }
   ],
   "source": [
    "df.info()"
   ]
  },
  {
   "cell_type": "code",
   "execution_count": 7,
   "id": "048f07b5",
   "metadata": {},
   "outputs": [
    {
     "data": {
      "text/plain": [
       "Frame                 1689\n",
       "N_Person                 5\n",
       "Xcenter               8978\n",
       "Ycenter               8962\n",
       "PerXmin               8983\n",
       "PerYmin               8979\n",
       "PerXmax               8982\n",
       "PerYmax               8970\n",
       "N_Handgun                5\n",
       "HgXcenter             4329\n",
       "HgYcenter             4327\n",
       "HgXmin                4331\n",
       "HgYmin                4331\n",
       "HgXmax                4331\n",
       "HgYmax                4330\n",
       "Intersection             9\n",
       "Included_Center          2\n",
       "Intersection_Area     5511\n",
       "Hg_Area               4331\n",
       "Distance             12652\n",
       "Ground_Truth             4\n",
       "GT                       4\n",
       "dtype: int64"
      ]
     },
     "execution_count": 7,
     "metadata": {},
     "output_type": "execute_result"
    }
   ],
   "source": [
    "df.nunique()"
   ]
  },
  {
   "cell_type": "code",
   "execution_count": 8,
   "id": "86b0f52d",
   "metadata": {
    "scrolled": true
   },
   "outputs": [
    {
     "data": {
      "text/plain": [
       "0    11400\n",
       "1     1198\n",
       "3       44\n",
       "2       10\n",
       "Name: Ground_Truth, dtype: int64"
      ]
     },
     "execution_count": 8,
     "metadata": {},
     "output_type": "execute_result"
    }
   ],
   "source": [
    "df['Ground_Truth'].value_counts()"
   ]
  },
  {
   "cell_type": "code",
   "execution_count": 9,
   "id": "732110e8",
   "metadata": {
    "scrolled": false
   },
   "outputs": [
    {
     "data": {
      "text/html": [
       "<div>\n",
       "<style scoped>\n",
       "    .dataframe tbody tr th:only-of-type {\n",
       "        vertical-align: middle;\n",
       "    }\n",
       "\n",
       "    .dataframe tbody tr th {\n",
       "        vertical-align: top;\n",
       "    }\n",
       "\n",
       "    .dataframe thead th {\n",
       "        text-align: right;\n",
       "    }\n",
       "</style>\n",
       "<table border=\"1\" class=\"dataframe\">\n",
       "  <thead>\n",
       "    <tr style=\"text-align: right;\">\n",
       "      <th></th>\n",
       "      <th>Frame</th>\n",
       "      <th>N_Person</th>\n",
       "      <th>Xcenter</th>\n",
       "      <th>Ycenter</th>\n",
       "      <th>PerXmin</th>\n",
       "      <th>PerYmin</th>\n",
       "      <th>PerXmax</th>\n",
       "      <th>PerYmax</th>\n",
       "      <th>N_Handgun</th>\n",
       "      <th>HgXcenter</th>\n",
       "      <th>...</th>\n",
       "      <th>GT</th>\n",
       "      <th>Intersection_Center_left</th>\n",
       "      <th>Intersection_Center_right</th>\n",
       "      <th>Intersection_Down_center</th>\n",
       "      <th>Intersection_Down_left</th>\n",
       "      <th>Intersection_Inside</th>\n",
       "      <th>Intersection_No_intersection</th>\n",
       "      <th>Intersection_Up_center</th>\n",
       "      <th>Intersection_Up_left</th>\n",
       "      <th>Intersection_Up_right</th>\n",
       "    </tr>\n",
       "  </thead>\n",
       "  <tbody>\n",
       "    <tr>\n",
       "      <th>0</th>\n",
       "      <td>0</td>\n",
       "      <td>0</td>\n",
       "      <td>474.999451</td>\n",
       "      <td>309.582947</td>\n",
       "      <td>395.377251</td>\n",
       "      <td>156.402725</td>\n",
       "      <td>554.621651</td>\n",
       "      <td>462.763168</td>\n",
       "      <td>0</td>\n",
       "      <td>409.881988</td>\n",
       "      <td>...</td>\n",
       "      <td>mlp17</td>\n",
       "      <td>1</td>\n",
       "      <td>0</td>\n",
       "      <td>0</td>\n",
       "      <td>0</td>\n",
       "      <td>0</td>\n",
       "      <td>0</td>\n",
       "      <td>0</td>\n",
       "      <td>0</td>\n",
       "      <td>0</td>\n",
       "    </tr>\n",
       "    <tr>\n",
       "      <th>1</th>\n",
       "      <td>0</td>\n",
       "      <td>1</td>\n",
       "      <td>338.124817</td>\n",
       "      <td>308.649231</td>\n",
       "      <td>279.351261</td>\n",
       "      <td>157.656418</td>\n",
       "      <td>396.898373</td>\n",
       "      <td>459.642044</td>\n",
       "      <td>0</td>\n",
       "      <td>409.881988</td>\n",
       "      <td>...</td>\n",
       "      <td>mlp10</td>\n",
       "      <td>0</td>\n",
       "      <td>0</td>\n",
       "      <td>0</td>\n",
       "      <td>0</td>\n",
       "      <td>0</td>\n",
       "      <td>0</td>\n",
       "      <td>0</td>\n",
       "      <td>0</td>\n",
       "      <td>1</td>\n",
       "    </tr>\n",
       "    <tr>\n",
       "      <th>2</th>\n",
       "      <td>1</td>\n",
       "      <td>0</td>\n",
       "      <td>474.938843</td>\n",
       "      <td>309.623566</td>\n",
       "      <td>395.161308</td>\n",
       "      <td>156.591705</td>\n",
       "      <td>554.716377</td>\n",
       "      <td>462.655426</td>\n",
       "      <td>0</td>\n",
       "      <td>409.638031</td>\n",
       "      <td>...</td>\n",
       "      <td>mlp17</td>\n",
       "      <td>1</td>\n",
       "      <td>0</td>\n",
       "      <td>0</td>\n",
       "      <td>0</td>\n",
       "      <td>0</td>\n",
       "      <td>0</td>\n",
       "      <td>0</td>\n",
       "      <td>0</td>\n",
       "      <td>0</td>\n",
       "    </tr>\n",
       "    <tr>\n",
       "      <th>3</th>\n",
       "      <td>1</td>\n",
       "      <td>1</td>\n",
       "      <td>338.274475</td>\n",
       "      <td>308.534027</td>\n",
       "      <td>279.539314</td>\n",
       "      <td>157.674393</td>\n",
       "      <td>397.009636</td>\n",
       "      <td>459.393662</td>\n",
       "      <td>0</td>\n",
       "      <td>409.638031</td>\n",
       "      <td>...</td>\n",
       "      <td>mlp10</td>\n",
       "      <td>0</td>\n",
       "      <td>0</td>\n",
       "      <td>0</td>\n",
       "      <td>0</td>\n",
       "      <td>0</td>\n",
       "      <td>0</td>\n",
       "      <td>0</td>\n",
       "      <td>0</td>\n",
       "      <td>1</td>\n",
       "    </tr>\n",
       "    <tr>\n",
       "      <th>4</th>\n",
       "      <td>2</td>\n",
       "      <td>0</td>\n",
       "      <td>475.070465</td>\n",
       "      <td>309.475372</td>\n",
       "      <td>395.484291</td>\n",
       "      <td>156.138077</td>\n",
       "      <td>554.656639</td>\n",
       "      <td>462.812668</td>\n",
       "      <td>0</td>\n",
       "      <td>409.610718</td>\n",
       "      <td>...</td>\n",
       "      <td>mlp17</td>\n",
       "      <td>1</td>\n",
       "      <td>0</td>\n",
       "      <td>0</td>\n",
       "      <td>0</td>\n",
       "      <td>0</td>\n",
       "      <td>0</td>\n",
       "      <td>0</td>\n",
       "      <td>0</td>\n",
       "      <td>0</td>\n",
       "    </tr>\n",
       "  </tbody>\n",
       "</table>\n",
       "<p>5 rows × 30 columns</p>\n",
       "</div>"
      ],
      "text/plain": [
       "   Frame  N_Person     Xcenter     Ycenter     PerXmin     PerYmin  \\\n",
       "0      0         0  474.999451  309.582947  395.377251  156.402725   \n",
       "1      0         1  338.124817  308.649231  279.351261  157.656418   \n",
       "2      1         0  474.938843  309.623566  395.161308  156.591705   \n",
       "3      1         1  338.274475  308.534027  279.539314  157.674393   \n",
       "4      2         0  475.070465  309.475372  395.484291  156.138077   \n",
       "\n",
       "      PerXmax     PerYmax  N_Handgun   HgXcenter  ...     GT  \\\n",
       "0  554.621651  462.763168          0  409.881988  ...  mlp17   \n",
       "1  396.898373  459.642044          0  409.881988  ...  mlp10   \n",
       "2  554.716377  462.655426          0  409.638031  ...  mlp17   \n",
       "3  397.009636  459.393662          0  409.638031  ...  mlp10   \n",
       "4  554.656639  462.812668          0  409.610718  ...  mlp17   \n",
       "\n",
       "   Intersection_Center_left  Intersection_Center_right  \\\n",
       "0                         1                          0   \n",
       "1                         0                          0   \n",
       "2                         1                          0   \n",
       "3                         0                          0   \n",
       "4                         1                          0   \n",
       "\n",
       "   Intersection_Down_center  Intersection_Down_left  Intersection_Inside  \\\n",
       "0                         0                       0                    0   \n",
       "1                         0                       0                    0   \n",
       "2                         0                       0                    0   \n",
       "3                         0                       0                    0   \n",
       "4                         0                       0                    0   \n",
       "\n",
       "   Intersection_No_intersection  Intersection_Up_center  Intersection_Up_left  \\\n",
       "0                             0                       0                     0   \n",
       "1                             0                       0                     0   \n",
       "2                             0                       0                     0   \n",
       "3                             0                       0                     0   \n",
       "4                             0                       0                     0   \n",
       "\n",
       "   Intersection_Up_right  \n",
       "0                      0  \n",
       "1                      1  \n",
       "2                      0  \n",
       "3                      1  \n",
       "4                      0  \n",
       "\n",
       "[5 rows x 30 columns]"
      ]
     },
     "execution_count": 9,
     "metadata": {},
     "output_type": "execute_result"
    }
   ],
   "source": [
    "df2 = pd.get_dummies(df,columns=['Intersection'])\n",
    "df2.head()"
   ]
  },
  {
   "cell_type": "code",
   "execution_count": 10,
   "id": "a246c9a2",
   "metadata": {
    "scrolled": true
   },
   "outputs": [
    {
     "name": "stdout",
     "output_type": "stream",
     "text": [
      "<class 'pandas.core.frame.DataFrame'>\n",
      "RangeIndex: 12652 entries, 0 to 12651\n",
      "Data columns (total 30 columns):\n",
      " #   Column                        Non-Null Count  Dtype  \n",
      "---  ------                        --------------  -----  \n",
      " 0   Frame                         12652 non-null  int64  \n",
      " 1   N_Person                      12652 non-null  int64  \n",
      " 2   Xcenter                       12652 non-null  float64\n",
      " 3   Ycenter                       12652 non-null  float64\n",
      " 4   PerXmin                       12652 non-null  float64\n",
      " 5   PerYmin                       12652 non-null  float64\n",
      " 6   PerXmax                       12652 non-null  float64\n",
      " 7   PerYmax                       12652 non-null  float64\n",
      " 8   N_Handgun                     12652 non-null  int64  \n",
      " 9   HgXcenter                     12652 non-null  float64\n",
      " 10  HgYcenter                     12652 non-null  float64\n",
      " 11  HgXmin                        12652 non-null  float64\n",
      " 12  HgYmin                        12652 non-null  float64\n",
      " 13  HgXmax                        12652 non-null  float64\n",
      " 14  HgYmax                        12652 non-null  float64\n",
      " 15  Included_Center               12652 non-null  int64  \n",
      " 16  Intersection_Area             12652 non-null  float64\n",
      " 17  Hg_Area                       12652 non-null  float64\n",
      " 18  Distance                      12652 non-null  float64\n",
      " 19  Ground_Truth                  12652 non-null  int64  \n",
      " 20  GT                            12652 non-null  object \n",
      " 21  Intersection_Center_left      12652 non-null  uint8  \n",
      " 22  Intersection_Center_right     12652 non-null  uint8  \n",
      " 23  Intersection_Down_center      12652 non-null  uint8  \n",
      " 24  Intersection_Down_left        12652 non-null  uint8  \n",
      " 25  Intersection_Inside           12652 non-null  uint8  \n",
      " 26  Intersection_No_intersection  12652 non-null  uint8  \n",
      " 27  Intersection_Up_center        12652 non-null  uint8  \n",
      " 28  Intersection_Up_left          12652 non-null  uint8  \n",
      " 29  Intersection_Up_right         12652 non-null  uint8  \n",
      "dtypes: float64(15), int64(5), object(1), uint8(9)\n",
      "memory usage: 2.1+ MB\n"
     ]
    }
   ],
   "source": [
    "df2.info()"
   ]
  },
  {
   "cell_type": "markdown",
   "id": "49376aaf",
   "metadata": {},
   "source": [
    "# Random Forest \n",
    "## Todos los predictores"
   ]
  },
  {
   "cell_type": "code",
   "execution_count": 11,
   "id": "a8376980",
   "metadata": {
    "scrolled": true
   },
   "outputs": [
    {
     "name": "stdout",
     "output_type": "stream",
     "text": [
      "{1: 'mlp17', 0: 'mlp10', 3: 'rfc12', 2: 'rfc11'}\n"
     ]
    }
   ],
   "source": [
    "pred = dict(zip(df2.Ground_Truth.unique(),df2.GT.unique()))\n",
    "print(pred)"
   ]
  },
  {
   "cell_type": "code",
   "execution_count": 12,
   "id": "7e893d55",
   "metadata": {
    "scrolled": true
   },
   "outputs": [
    {
     "name": "stdout",
     "output_type": "stream",
     "text": [
      "0    11400\n",
      "1     1198\n",
      "3       44\n",
      "2       10\n",
      "Name: Ground_Truth, dtype: int64\n"
     ]
    }
   ],
   "source": [
    "print(df2['Ground_Truth'].value_counts())"
   ]
  },
  {
   "cell_type": "code",
   "execution_count": 13,
   "id": "e0a1da1a",
   "metadata": {},
   "outputs": [],
   "source": [
    "df3 = df2.drop(columns=[\"GT\"])"
   ]
  },
  {
   "cell_type": "code",
   "execution_count": 14,
   "id": "c1daddd3",
   "metadata": {},
   "outputs": [
    {
     "name": "stdout",
     "output_type": "stream",
     "text": [
      "(10121, 28) (10121,)\n",
      "(2531, 28) (2531,)\n"
     ]
    }
   ],
   "source": [
    "from sklearn.model_selection import train_test_split\n",
    "\n",
    "train_df, test_df = train_test_split(df3, test_size=0.2, random_state=123)\n",
    "X_train_rfc, y_train_rfc = train_df.drop(columns=[\"Ground_Truth\"], axis=1), train_df[\"Ground_Truth\"]\n",
    "X_test_rfc, y_test_rfc = test_df.drop(columns=[\"Ground_Truth\"], axis=1), test_df[\"Ground_Truth\"]\n",
    "\n",
    "print(X_train_rfc.shape, y_train_rfc.shape)\n",
    "print(X_test_rfc.shape, y_test_rfc.shape)"
   ]
  },
  {
   "cell_type": "code",
   "execution_count": 15,
   "id": "81e31bc9",
   "metadata": {
    "scrolled": true
   },
   "outputs": [
    {
     "name": "stderr",
     "output_type": "stream",
     "text": [
      "C:\\ProgramData\\Anaconda3\\envs\\entornoGPU\\lib\\site-packages\\sklearn\\model_selection\\_split.py:680: UserWarning: The least populated class in y has only 9 members, which is less than n_splits=10.\n",
      "  UserWarning,\n"
     ]
    },
    {
     "name": "stdout",
     "output_type": "stream",
     "text": [
      "mean_train =  0.9596878009861823\n",
      "mean_test =  0.9510915411898286\n"
     ]
    },
    {
     "data": {
      "text/html": [
       "<div>\n",
       "<style scoped>\n",
       "    .dataframe tbody tr th:only-of-type {\n",
       "        vertical-align: middle;\n",
       "    }\n",
       "\n",
       "    .dataframe tbody tr th {\n",
       "        vertical-align: top;\n",
       "    }\n",
       "\n",
       "    .dataframe thead th {\n",
       "        text-align: right;\n",
       "    }\n",
       "</style>\n",
       "<table border=\"1\" class=\"dataframe\">\n",
       "  <thead>\n",
       "    <tr style=\"text-align: right;\">\n",
       "      <th></th>\n",
       "      <th>fit_time</th>\n",
       "      <th>score_time</th>\n",
       "      <th>test_score</th>\n",
       "      <th>train_score</th>\n",
       "    </tr>\n",
       "  </thead>\n",
       "  <tbody>\n",
       "    <tr>\n",
       "      <th>0</th>\n",
       "      <td>0.097749</td>\n",
       "      <td>0.003954</td>\n",
       "      <td>0.953603</td>\n",
       "      <td>0.961792</td>\n",
       "    </tr>\n",
       "    <tr>\n",
       "      <th>1</th>\n",
       "      <td>0.099704</td>\n",
       "      <td>0.002992</td>\n",
       "      <td>0.961462</td>\n",
       "      <td>0.962674</td>\n",
       "    </tr>\n",
       "    <tr>\n",
       "      <th>2</th>\n",
       "      <td>0.100738</td>\n",
       "      <td>0.002991</td>\n",
       "      <td>0.948617</td>\n",
       "      <td>0.961796</td>\n",
       "    </tr>\n",
       "    <tr>\n",
       "      <th>3</th>\n",
       "      <td>0.105716</td>\n",
       "      <td>0.003020</td>\n",
       "      <td>0.944664</td>\n",
       "      <td>0.956966</td>\n",
       "    </tr>\n",
       "    <tr>\n",
       "      <th>4</th>\n",
       "      <td>0.093748</td>\n",
       "      <td>0.002992</td>\n",
       "      <td>0.943676</td>\n",
       "      <td>0.959820</td>\n",
       "    </tr>\n",
       "    <tr>\n",
       "      <th>5</th>\n",
       "      <td>0.103750</td>\n",
       "      <td>0.002997</td>\n",
       "      <td>0.951581</td>\n",
       "      <td>0.956087</td>\n",
       "    </tr>\n",
       "    <tr>\n",
       "      <th>6</th>\n",
       "      <td>0.103723</td>\n",
       "      <td>0.002992</td>\n",
       "      <td>0.945652</td>\n",
       "      <td>0.952904</td>\n",
       "    </tr>\n",
       "    <tr>\n",
       "      <th>7</th>\n",
       "      <td>0.095746</td>\n",
       "      <td>0.002992</td>\n",
       "      <td>0.957510</td>\n",
       "      <td>0.961028</td>\n",
       "    </tr>\n",
       "    <tr>\n",
       "      <th>8</th>\n",
       "      <td>0.105691</td>\n",
       "      <td>0.003990</td>\n",
       "      <td>0.954545</td>\n",
       "      <td>0.961686</td>\n",
       "    </tr>\n",
       "    <tr>\n",
       "      <th>9</th>\n",
       "      <td>0.092754</td>\n",
       "      <td>0.002990</td>\n",
       "      <td>0.949605</td>\n",
       "      <td>0.962125</td>\n",
       "    </tr>\n",
       "  </tbody>\n",
       "</table>\n",
       "</div>"
      ],
      "text/plain": [
       "   fit_time  score_time  test_score  train_score\n",
       "0  0.097749    0.003954    0.953603     0.961792\n",
       "1  0.099704    0.002992    0.961462     0.962674\n",
       "2  0.100738    0.002991    0.948617     0.961796\n",
       "3  0.105716    0.003020    0.944664     0.956966\n",
       "4  0.093748    0.002992    0.943676     0.959820\n",
       "5  0.103750    0.002997    0.951581     0.956087\n",
       "6  0.103723    0.002992    0.945652     0.952904\n",
       "7  0.095746    0.002992    0.957510     0.961028\n",
       "8  0.105691    0.003990    0.954545     0.961686\n",
       "9  0.092754    0.002990    0.949605     0.962125"
      ]
     },
     "execution_count": 15,
     "metadata": {},
     "output_type": "execute_result"
    }
   ],
   "source": [
    "from sklearn.ensemble import RandomForestClassifier\n",
    "from sklearn.model_selection import cross_validate\n",
    "\n",
    "rfc_o = RandomForestClassifier(n_estimators=10, max_depth=7)\n",
    "scores = pd.DataFrame(cross_validate(rfc_o, X_train_rfc, y_train_rfc, cv=10, return_train_score=True))\n",
    "print(\"mean_train = \", scores['train_score'].mean())\n",
    "print(\"mean_test = \", scores['test_score'].mean())\n",
    "scores"
   ]
  },
  {
   "cell_type": "code",
   "execution_count": 16,
   "id": "803a6a17",
   "metadata": {
    "scrolled": true
   },
   "outputs": [
    {
     "name": "stdout",
     "output_type": "stream",
     "text": [
      "                         feature  importance       std\n",
      "25        Intersection_Up_center    0.000000  0.000000\n",
      "22        Intersection_Down_left    0.000000  0.000000\n",
      "21      Intersection_Down_center    0.000000  0.000000\n",
      "26          Intersection_Up_left    0.000000  0.000000\n",
      "20     Intersection_Center_right    0.000484  0.000762\n",
      "27         Intersection_Up_right    0.001676  0.003089\n",
      "1                       N_Person    0.002664  0.005600\n",
      "23           Intersection_Inside    0.003111  0.005547\n",
      "8                      N_Handgun    0.017744  0.024175\n",
      "12                        HgYmin    0.023104  0.023439\n",
      "17                       Hg_Area    0.023177  0.022567\n",
      "5                        PerYmin    0.024323  0.023749\n",
      "13                        HgXmax    0.027047  0.025523\n",
      "19      Intersection_Center_left    0.027080  0.044834\n",
      "3                        Ycenter    0.028511  0.033334\n",
      "9                      HgXcenter    0.038265  0.029044\n",
      "10                     HgYcenter    0.044751  0.053880\n",
      "11                        HgXmin    0.048460  0.037688\n",
      "7                        PerYmax    0.054813  0.070252\n",
      "4                        PerXmin    0.055820  0.054117\n",
      "0                          Frame    0.059171  0.042069\n",
      "14                        HgYmax    0.059376  0.056026\n",
      "18                      Distance    0.060648  0.046626\n",
      "6                        PerXmax    0.071549  0.030645\n",
      "24  Intersection_No_intersection    0.071609  0.087720\n",
      "16             Intersection_Area    0.076140  0.072091\n",
      "2                        Xcenter    0.076301  0.046270\n",
      "15               Included_Center    0.104176  0.084639\n"
     ]
    },
    {
     "data": {
      "image/png": "[encoded data removed]",
      "text/plain": [
       "<Figure size 800x600 with 1 Axes>"
      ]
     },
     "metadata": {},
     "output_type": "display_data"
    }
   ],
   "source": [
    "rfc_o.fit(X_train_rfc.values, y_train_rfc.values)\n",
    "predictions_rfc_o=rfc_o.predict(X_test_rfc.values)\n",
    "#Le agrego .values para solucionar el problema:\n",
    "#C:\\ProgramData\\Anaconda3\\lib\\site-packages\\sklearn\\base.py:450: UserWarning: X does not have valid feature names, but RandomForestClassifier was fitted with feature names\n",
    "#https://stackoverflow.com/questions/69326639/sklearn-warning-valid-feature-names-in-version-1-0\n",
    "\n",
    "importances = rfc_o.feature_importances_\n",
    "std = np.std([tree.feature_importances_ for tree in rfc_o.estimators_], axis=0)\n",
    "\n",
    "df = pd.DataFrame({'feature': X_train_rfc.columns, 'importance': importances, 'std': std})\n",
    "df = df.sort_values('importance')\n",
    "print(df)\n",
    "\n",
    "ax = df.plot(figsize=(8,6),kind='barh', xerr='std', x='feature', legend=False)\n",
    "ax.set_ylabel('')\n",
    "\n",
    "plt.tight_layout()\n",
    "plt.show()"
   ]
  },
  {
   "cell_type": "code",
   "execution_count": 17,
   "id": "4cd43a0d",
   "metadata": {},
   "outputs": [
    {
     "name": "stdout",
     "output_type": "stream",
     "text": [
      "              precision    recall  f1-score   support\n",
      "\n",
      "           0       0.96      1.00      0.98      2305\n",
      "           1       0.92      0.58      0.71       219\n",
      "           2       0.00      0.00      0.00         1\n",
      "           3       0.80      0.67      0.73         6\n",
      "\n",
      "    accuracy                           0.96      2531\n",
      "   macro avg       0.67      0.56      0.60      2531\n",
      "weighted avg       0.96      0.96      0.95      2531\n",
      "\n"
     ]
    },
    {
     "name": "stderr",
     "output_type": "stream",
     "text": [
      "C:\\ProgramData\\Anaconda3\\envs\\entornoGPU\\lib\\site-packages\\sklearn\\metrics\\_classification.py:1318: UndefinedMetricWarning: Precision and F-score are ill-defined and being set to 0.0 in labels with no predicted samples. Use `zero_division` parameter to control this behavior.\n",
      "  _warn_prf(average, modifier, msg_start, len(result))\n",
      "C:\\ProgramData\\Anaconda3\\envs\\entornoGPU\\lib\\site-packages\\sklearn\\metrics\\_classification.py:1318: UndefinedMetricWarning: Precision and F-score are ill-defined and being set to 0.0 in labels with no predicted samples. Use `zero_division` parameter to control this behavior.\n",
      "  _warn_prf(average, modifier, msg_start, len(result))\n",
      "C:\\ProgramData\\Anaconda3\\envs\\entornoGPU\\lib\\site-packages\\sklearn\\metrics\\_classification.py:1318: UndefinedMetricWarning: Precision and F-score are ill-defined and being set to 0.0 in labels with no predicted samples. Use `zero_division` parameter to control this behavior.\n",
      "  _warn_prf(average, modifier, msg_start, len(result))\n"
     ]
    }
   ],
   "source": [
    "from sklearn.metrics import classification_report\n",
    "print(classification_report(y_test_rfc,predictions_rfc_o))"
   ]
  },
  {
   "cell_type": "code",
   "execution_count": 31,
   "id": "b638c813",
   "metadata": {},
   "outputs": [],
   "source": [
    "# save the model to disk\n",
    "filename = 'rfc_model_intersection6.sav'\n",
    "pickle.dump(rfc_o, open(filename, 'wb')) "
   ]
  },
  {
   "cell_type": "markdown",
   "id": "a98ecc7b",
   "metadata": {},
   "source": [
    "# Redes Neuronales - Todos los predictores"
   ]
  },
  {
   "cell_type": "code",
   "execution_count": 18,
   "id": "05a611fa",
   "metadata": {
    "scrolled": true
   },
   "outputs": [],
   "source": [
    "X = df3.drop('Ground_Truth',axis='columns')\n",
    "y = df3.Ground_Truth"
   ]
  },
  {
   "cell_type": "code",
   "execution_count": 19,
   "id": "69009579",
   "metadata": {},
   "outputs": [
    {
     "data": {
      "text/plain": [
       "array([[-2.0489514 , -1.11274597,  0.33989488, -2.1566782 ,  0.3701992 ,\n",
       "        -1.65103893,  0.29602604, -3.20232235, -0.57607603,  0.56213314,\n",
       "        -2.34052204,  0.61447809, -2.12081703,  0.50958857, -2.5573473 ,\n",
       "         1.26811752, -0.06463069, -0.5915216 , -0.64579167,  2.32439971,\n",
       "        -0.27056207, -0.02352825, -0.01257389, -0.43421103, -1.13193808,\n",
       "        -0.1451333 , -0.07296436, -0.17186801],\n",
       "       [-2.0489514 , -0.06038672, -0.29356253, -2.17562215, -0.16515593,\n",
       "        -1.63665292, -0.40446314, -3.34777465, -0.57607603,  0.56213314,\n",
       "        -2.34052204,  0.61447809, -2.12081703,  0.50958857, -2.5573473 ,\n",
       "        -0.78857045, -0.46587968, -0.5915216 , -0.62883701, -0.4302186 ,\n",
       "        -0.27056207, -0.02352825, -0.01257389, -0.43421103, -1.13193808,\n",
       "        -0.1451333 , -0.07296436,  5.81841856],\n",
       "       [-2.04669759, -1.11274597,  0.33961438, -2.15585409,  0.36920283,\n",
       "        -1.6488704 ,  0.29644675, -3.20734341, -0.57607603,  0.56068317,\n",
       "        -2.3416668 ,  0.61172475, -2.12165453,  0.5094075 , -2.55882192,\n",
       "         1.26811752, -0.06252078, -0.58654974, -0.64445936,  2.32439971,\n",
       "        -0.27056207, -0.02352825, -0.01257389, -0.43421103, -1.13193808,\n",
       "        -0.1451333 , -0.07296436, -0.17186801]])"
      ]
     },
     "execution_count": 19,
     "metadata": {},
     "output_type": "execute_result"
    }
   ],
   "source": [
    "from sklearn.preprocessing import StandardScaler\n",
    "scaler = StandardScaler()\n",
    "X_scaled = scaler.fit_transform(X)\n",
    "X_scaled[:3]\n",
    "#X_scaled.shape"
   ]
  },
  {
   "cell_type": "code",
   "execution_count": 20,
   "id": "452d05da",
   "metadata": {
    "scrolled": true
   },
   "outputs": [
    {
     "name": "stdout",
     "output_type": "stream",
     "text": [
      "[9.09106623e+02 1.05738223e+00 4.01556492e+02 4.15881999e+02\n",
      " 3.15145035e+02 3.00285205e+02 4.87967948e+02 5.31478794e+02\n",
      " 3.87211508e-01 3.15303209e+02 3.59825385e+02 2.92086914e+02\n",
      " 3.39647453e+02 3.38519504e+02 3.80003317e+02 3.83417641e-01\n",
      " 9.68300700e+02 2.15281262e+03 2.31289485e+02 1.56180841e-01\n",
      " 6.82105596e-02 5.53272210e-04 1.58077774e-04 1.58631046e-01\n",
      " 5.61650332e-01 2.06291495e-02 5.29560544e-03 2.86911160e-02]\n"
     ]
    }
   ],
   "source": [
    "print(scaler.mean_)"
   ]
  },
  {
   "cell_type": "code",
   "execution_count": 21,
   "id": "792e3581",
   "metadata": {
    "scrolled": true
   },
   "outputs": [
    {
     "name": "stdout",
     "output_type": "stream",
     "text": [
      "[4.43693600e+02 9.50245842e-01 2.16075512e+02 4.92883235e+01\n",
      " 2.16727143e+02 8.71466305e+01 2.25161619e+02 2.14580602e+01\n",
      " 6.72153476e-01 1.68249783e+02 7.25382729e+01 1.65957845e+02\n",
      " 7.71079606e+01 1.71079386e+02 6.88302982e+01 4.86218627e-01\n",
      " 1.90893059e+03 2.14921043e+03 1.47367328e+02 3.63026701e-01\n",
      " 2.52106880e-01 2.35152312e-02 1.25719046e-02 3.65331682e-01\n",
      " 4.96184680e-01 1.42139325e-01 7.25779719e-02 1.66936922e-01]\n"
     ]
    }
   ],
   "source": [
    "print(scaler.scale_)"
   ]
  },
  {
   "cell_type": "code",
   "execution_count": 22,
   "id": "0f8c7a7e",
   "metadata": {},
   "outputs": [],
   "source": [
    "from sklearn.model_selection import  train_test_split\n",
    "X_train, X_test, y_train, y_test = train_test_split(X_scaled, y, stratify=y, random_state=10) #stratify hace que el ratio entre 0 y 1 se mantenga en la distri. entre el test(y). "
   ]
  },
  {
   "cell_type": "code",
   "execution_count": 23,
   "id": "89c11ff0",
   "metadata": {},
   "outputs": [
    {
     "data": {
      "text/plain": [
       "(9489, 28)"
      ]
     },
     "execution_count": 23,
     "metadata": {},
     "output_type": "execute_result"
    }
   ],
   "source": [
    "X_train.shape"
   ]
  },
  {
   "cell_type": "code",
   "execution_count": 24,
   "id": "809f7a45",
   "metadata": {
    "scrolled": true
   },
   "outputs": [
    {
     "data": {
      "text/plain": [
       "0    8550\n",
       "1     899\n",
       "3      33\n",
       "2       7\n",
       "Name: Ground_Truth, dtype: int64"
      ]
     },
     "execution_count": 24,
     "metadata": {},
     "output_type": "execute_result"
    }
   ],
   "source": [
    "y_train.value_counts()"
   ]
  },
  {
   "cell_type": "code",
   "execution_count": 25,
   "id": "87692498",
   "metadata": {},
   "outputs": [
    {
     "data": {
      "text/plain": [
       "(3163, 28)"
      ]
     },
     "execution_count": 25,
     "metadata": {},
     "output_type": "execute_result"
    }
   ],
   "source": [
    "X_test.shape"
   ]
  },
  {
   "cell_type": "code",
   "execution_count": 26,
   "id": "37e3175e",
   "metadata": {
    "scrolled": true
   },
   "outputs": [
    {
     "data": {
      "text/plain": [
       "0    2850\n",
       "1     299\n",
       "3      11\n",
       "2       3\n",
       "Name: Ground_Truth, dtype: int64"
      ]
     },
     "execution_count": 26,
     "metadata": {},
     "output_type": "execute_result"
    }
   ],
   "source": [
    "y_test.value_counts()"
   ]
  },
  {
   "cell_type": "code",
   "execution_count": 27,
   "id": "8b1cbdef",
   "metadata": {},
   "outputs": [
    {
     "data": {
      "text/plain": [
       "array([[9.99752963e-01, 2.46002328e-04, 2.51469015e-09, 1.03249255e-06],\n",
       "       [1.00000000e+00, 1.86006275e-22, 1.25977477e-29, 1.61608650e-27],\n",
       "       [1.00000000e+00, 1.60318816e-12, 6.79799473e-12, 7.44092598e-12],\n",
       "       ...,\n",
       "       [9.99996937e-01, 2.04863244e-06, 9.74036858e-07, 4.05388238e-08],\n",
       "       [9.99999282e-01, 7.16322867e-07, 6.23853741e-11, 1.12233768e-09],\n",
       "       [9.04107223e-01, 8.39344744e-02, 5.90104878e-04, 1.13681974e-02]])"
      ]
     },
     "execution_count": 27,
     "metadata": {},
     "output_type": "execute_result"
    }
   ],
   "source": [
    "from sklearn.neural_network import MLPClassifier\n",
    "mlp=MLPClassifier(hidden_layer_sizes=(25,25,25,25), max_iter=500, alpha=0.0001, solver='adam',\n",
    "                 random_state=123, tol=0.000000001)\n",
    "mlp.fit(X_train,y_train)\n",
    "predictions_mlp=mlp.predict_proba(X_test)\n",
    "predictions_mlp"
   ]
  },
  {
   "cell_type": "code",
   "execution_count": 28,
   "id": "1e2e8226",
   "metadata": {},
   "outputs": [
    {
     "data": {
      "text/plain": [
       "array([0, 0, 0, ..., 0, 0, 0], dtype=int64)"
      ]
     },
     "execution_count": 28,
     "metadata": {},
     "output_type": "execute_result"
    }
   ],
   "source": [
    "predictions_mlp=mlp.predict(X_test)\n",
    "predictions_mlp"
   ]
  },
  {
   "cell_type": "code",
   "execution_count": 30,
   "id": "f87e6606",
   "metadata": {
    "scrolled": true
   },
   "outputs": [
    {
     "name": "stdout",
     "output_type": "stream",
     "text": [
      "              precision    recall  f1-score   support\n",
      "\n",
      "           0       0.98      0.99      0.99      2850\n",
      "           1       0.88      0.84      0.86       299\n",
      "           2       0.00      0.00      0.00         3\n",
      "           3       0.88      0.64      0.74        11\n",
      "\n",
      "    accuracy                           0.97      3163\n",
      "   macro avg       0.68      0.62      0.65      3163\n",
      "weighted avg       0.97      0.97      0.97      3163\n",
      "\n"
     ]
    },
    {
     "name": "stderr",
     "output_type": "stream",
     "text": [
      "C:\\ProgramData\\Anaconda3\\envs\\entornoGPU\\lib\\site-packages\\sklearn\\metrics\\_classification.py:1318: UndefinedMetricWarning: Precision and F-score are ill-defined and being set to 0.0 in labels with no predicted samples. Use `zero_division` parameter to control this behavior.\n",
      "  _warn_prf(average, modifier, msg_start, len(result))\n",
      "C:\\ProgramData\\Anaconda3\\envs\\entornoGPU\\lib\\site-packages\\sklearn\\metrics\\_classification.py:1318: UndefinedMetricWarning: Precision and F-score are ill-defined and being set to 0.0 in labels with no predicted samples. Use `zero_division` parameter to control this behavior.\n",
      "  _warn_prf(average, modifier, msg_start, len(result))\n",
      "C:\\ProgramData\\Anaconda3\\envs\\entornoGPU\\lib\\site-packages\\sklearn\\metrics\\_classification.py:1318: UndefinedMetricWarning: Precision and F-score are ill-defined and being set to 0.0 in labels with no predicted samples. Use `zero_division` parameter to control this behavior.\n",
      "  _warn_prf(average, modifier, msg_start, len(result))\n"
     ]
    }
   ],
   "source": [
    "from sklearn.metrics import classification_report\n",
    "print(classification_report(y_test,predictions_mlp))"
   ]
  },
  {
   "cell_type": "code",
   "execution_count": 31,
   "id": "88b8b418",
   "metadata": {},
   "outputs": [
    {
     "name": "stdout",
     "output_type": "stream",
     "text": [
      "Score train =  0.983770681842133\n",
      "Score test =  0.9724944672779007\n"
     ]
    }
   ],
   "source": [
    "print(\"Score train = \",mlp.score(X_train, y_train))\n",
    "print(\"Score test = \",mlp.score(X_test, y_test))"
   ]
  },
  {
   "cell_type": "code",
   "execution_count": 35,
   "id": "9e560452",
   "metadata": {},
   "outputs": [],
   "source": [
    "# save the model to disk\n",
    "filename = 'mlp_model_intersection.sav'\n",
    "pickle.dump(mlp, open(filename, 'wb')) "
   ]
  },
  {
   "cell_type": "code",
   "execution_count": null,
   "id": "d462b638",
   "metadata": {},
   "outputs": [],
   "source": []
  }
 ],
 "metadata": {
  "kernelspec": {
   "display_name": "Python 3 (ipykernel)",
   "language": "python",
   "name": "python3"
  },
  "language_info": {
   "codemirror_mode": {
    "name": "ipython",
    "version": 3
   },
   "file_extension": ".py",
   "mimetype": "text/x-python",
   "name": "python",
   "nbconvert_exporter": "python",
   "pygments_lexer": "ipython3",
   "version": "3.8.8"
  }
 },
 "nbformat": 4,
 "nbformat_minor": 5
}
