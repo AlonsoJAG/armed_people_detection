{
 "cells": [
  {
   "cell_type": "code",
   "execution_count": 1,
   "id": "f1f1a000",
   "metadata": {
    "scrolled": true
   },
   "outputs": [
    {
     "name": "stdout",
     "output_type": "stream",
     "text": [
      "Version de tensorflow:2.1.0\n",
      "GPU:\n"
     ]
    }
   ],
   "source": [
    "import tensorflow as tf\n",
    "print(\"Version de tensorflow:{}\".format(tf.__version__))\n",
    "print(\"GPU:{}\".format(tf.test.gpu_device_name()))"
   ]
  },
  {
   "cell_type": "code",
   "execution_count": 1,
   "id": "5d87e640",
   "metadata": {},
   "outputs": [],
   "source": [
    "import pickle\n",
    "import numpy as np\n",
    "import pandas as pd\n",
    "import matplotlib.pyplot as plt\n",
    "%matplotlib inline"
   ]
  },
  {
   "cell_type": "code",
   "execution_count": 2,
   "id": "95600074",
   "metadata": {
    "scrolled": false
   },
   "outputs": [
    {
     "data": {
      "text/html": [
       "<div>\n",
       "<style scoped>\n",
       "    .dataframe tbody tr th:only-of-type {\n",
       "        vertical-align: middle;\n",
       "    }\n",
       "\n",
       "    .dataframe tbody tr th {\n",
       "        vertical-align: top;\n",
       "    }\n",
       "\n",
       "    .dataframe thead th {\n",
       "        text-align: right;\n",
       "    }\n",
       "</style>\n",
       "<table border=\"1\" class=\"dataframe\">\n",
       "  <thead>\n",
       "    <tr style=\"text-align: right;\">\n",
       "      <th></th>\n",
       "      <th>currentframe</th>\n",
       "      <th>N_Person</th>\n",
       "      <th>per_xmid</th>\n",
       "      <th>per_ymid</th>\n",
       "      <th>per_xmin</th>\n",
       "      <th>per_ymin</th>\n",
       "      <th>per_xmax</th>\n",
       "      <th>per_ymax</th>\n",
       "      <th>N_Handgun</th>\n",
       "      <th>hg_xmid</th>\n",
       "      <th>...</th>\n",
       "      <th>hg_xmin</th>\n",
       "      <th>hg_ymin</th>\n",
       "      <th>hg_xmax</th>\n",
       "      <th>hg_ymax</th>\n",
       "      <th>included_center</th>\n",
       "      <th>areai</th>\n",
       "      <th>areah</th>\n",
       "      <th>dist</th>\n",
       "      <th>Intersection</th>\n",
       "      <th>Ground_Truth</th>\n",
       "    </tr>\n",
       "  </thead>\n",
       "  <tbody>\n",
       "    <tr>\n",
       "      <th>0</th>\n",
       "      <td>0</td>\n",
       "      <td>0</td>\n",
       "      <td>474.999451</td>\n",
       "      <td>309.582947</td>\n",
       "      <td>395.377251</td>\n",
       "      <td>156.402725</td>\n",
       "      <td>554.621651</td>\n",
       "      <td>462.763168</td>\n",
       "      <td>0</td>\n",
       "      <td>409.881988</td>\n",
       "      <td>...</td>\n",
       "      <td>394.064373</td>\n",
       "      <td>176.115577</td>\n",
       "      <td>425.699604</td>\n",
       "      <td>203.980340</td>\n",
       "      <td>1</td>\n",
       "      <td>844.925198</td>\n",
       "      <td>881.508223</td>\n",
       "      <td>136.120892</td>\n",
       "      <td>Center_left</td>\n",
       "      <td>1</td>\n",
       "    </tr>\n",
       "    <tr>\n",
       "      <th>1</th>\n",
       "      <td>0</td>\n",
       "      <td>1</td>\n",
       "      <td>338.124817</td>\n",
       "      <td>308.649231</td>\n",
       "      <td>279.351261</td>\n",
       "      <td>157.656418</td>\n",
       "      <td>396.898373</td>\n",
       "      <td>459.642044</td>\n",
       "      <td>0</td>\n",
       "      <td>409.881988</td>\n",
       "      <td>...</td>\n",
       "      <td>394.064373</td>\n",
       "      <td>176.115577</td>\n",
       "      <td>425.699604</td>\n",
       "      <td>203.980340</td>\n",
       "      <td>0</td>\n",
       "      <td>78.968729</td>\n",
       "      <td>881.508223</td>\n",
       "      <td>138.619456</td>\n",
       "      <td>Up_right</td>\n",
       "      <td>0</td>\n",
       "    </tr>\n",
       "    <tr>\n",
       "      <th>2</th>\n",
       "      <td>1</td>\n",
       "      <td>0</td>\n",
       "      <td>474.938843</td>\n",
       "      <td>309.623566</td>\n",
       "      <td>395.161308</td>\n",
       "      <td>156.591705</td>\n",
       "      <td>554.716377</td>\n",
       "      <td>462.655426</td>\n",
       "      <td>0</td>\n",
       "      <td>409.638031</td>\n",
       "      <td>...</td>\n",
       "      <td>393.607435</td>\n",
       "      <td>176.050999</td>\n",
       "      <td>425.668627</td>\n",
       "      <td>203.878841</td>\n",
       "      <td>1</td>\n",
       "      <td>848.952861</td>\n",
       "      <td>892.193796</td>\n",
       "      <td>136.317231</td>\n",
       "      <td>Center_left</td>\n",
       "      <td>1</td>\n",
       "    </tr>\n",
       "    <tr>\n",
       "      <th>3</th>\n",
       "      <td>1</td>\n",
       "      <td>1</td>\n",
       "      <td>338.274475</td>\n",
       "      <td>308.534027</td>\n",
       "      <td>279.539314</td>\n",
       "      <td>157.674393</td>\n",
       "      <td>397.009636</td>\n",
       "      <td>459.393662</td>\n",
       "      <td>0</td>\n",
       "      <td>409.638031</td>\n",
       "      <td>...</td>\n",
       "      <td>393.607435</td>\n",
       "      <td>176.050999</td>\n",
       "      <td>425.668627</td>\n",
       "      <td>203.878841</td>\n",
       "      <td>0</td>\n",
       "      <td>94.675906</td>\n",
       "      <td>892.193796</td>\n",
       "      <td>138.388548</td>\n",
       "      <td>Up_right</td>\n",
       "      <td>0</td>\n",
       "    </tr>\n",
       "    <tr>\n",
       "      <th>4</th>\n",
       "      <td>2</td>\n",
       "      <td>0</td>\n",
       "      <td>475.070465</td>\n",
       "      <td>309.475372</td>\n",
       "      <td>395.484291</td>\n",
       "      <td>156.138077</td>\n",
       "      <td>554.656639</td>\n",
       "      <td>462.812668</td>\n",
       "      <td>0</td>\n",
       "      <td>409.610718</td>\n",
       "      <td>...</td>\n",
       "      <td>393.593826</td>\n",
       "      <td>175.932056</td>\n",
       "      <td>425.627609</td>\n",
       "      <td>203.722820</td>\n",
       "      <td>1</td>\n",
       "      <td>837.705837</td>\n",
       "      <td>890.243298</td>\n",
       "      <td>136.384041</td>\n",
       "      <td>Center_left</td>\n",
       "      <td>1</td>\n",
       "    </tr>\n",
       "  </tbody>\n",
       "</table>\n",
       "<p>5 rows × 21 columns</p>\n",
       "</div>"
      ],
      "text/plain": [
       "   currentframe  N_Person    per_xmid    per_ymid    per_xmin    per_ymin  \\\n",
       "0             0         0  474.999451  309.582947  395.377251  156.402725   \n",
       "1             0         1  338.124817  308.649231  279.351261  157.656418   \n",
       "2             1         0  474.938843  309.623566  395.161308  156.591705   \n",
       "3             1         1  338.274475  308.534027  279.539314  157.674393   \n",
       "4             2         0  475.070465  309.475372  395.484291  156.138077   \n",
       "\n",
       "     per_xmax    per_ymax  N_Handgun     hg_xmid  ...     hg_xmin     hg_ymin  \\\n",
       "0  554.621651  462.763168          0  409.881988  ...  394.064373  176.115577   \n",
       "1  396.898373  459.642044          0  409.881988  ...  394.064373  176.115577   \n",
       "2  554.716377  462.655426          0  409.638031  ...  393.607435  176.050999   \n",
       "3  397.009636  459.393662          0  409.638031  ...  393.607435  176.050999   \n",
       "4  554.656639  462.812668          0  409.610718  ...  393.593826  175.932056   \n",
       "\n",
       "      hg_xmax     hg_ymax  included_center       areai       areah  \\\n",
       "0  425.699604  203.980340                1  844.925198  881.508223   \n",
       "1  425.699604  203.980340                0   78.968729  881.508223   \n",
       "2  425.668627  203.878841                1  848.952861  892.193796   \n",
       "3  425.668627  203.878841                0   94.675906  892.193796   \n",
       "4  425.627609  203.722820                1  837.705837  890.243298   \n",
       "\n",
       "         dist  Intersection Ground_Truth  \n",
       "0  136.120892   Center_left            1  \n",
       "1  138.619456      Up_right            0  \n",
       "2  136.317231   Center_left            1  \n",
       "3  138.388548      Up_right            0  \n",
       "4  136.384041   Center_left            1  \n",
       "\n",
       "[5 rows x 21 columns]"
      ]
     },
     "execution_count": 2,
     "metadata": {},
     "output_type": "execute_result"
    }
   ],
   "source": [
    "df = pd.read_csv('Videos1_2_3 (1).csv')\n",
    "df.head()"
   ]
  },
  {
   "cell_type": "code",
   "execution_count": 3,
   "id": "8ae1ff95",
   "metadata": {},
   "outputs": [
    {
     "data": {
      "text/plain": [
       "12652"
      ]
     },
     "execution_count": 3,
     "metadata": {},
     "output_type": "execute_result"
    }
   ],
   "source": [
    "len(df)"
   ]
  },
  {
   "cell_type": "code",
   "execution_count": 4,
   "id": "9ac6c889",
   "metadata": {
    "scrolled": true
   },
   "outputs": [
    {
     "name": "stdout",
     "output_type": "stream",
     "text": [
      "<class 'pandas.core.frame.DataFrame'>\n",
      "RangeIndex: 12652 entries, 0 to 12651\n",
      "Data columns (total 21 columns):\n",
      " #   Column           Non-Null Count  Dtype  \n",
      "---  ------           --------------  -----  \n",
      " 0   currentframe     12652 non-null  int64  \n",
      " 1   N_Person         12652 non-null  int64  \n",
      " 2   per_xmid         12652 non-null  float64\n",
      " 3   per_ymid         12652 non-null  float64\n",
      " 4   per_xmin         12652 non-null  float64\n",
      " 5   per_ymin         12652 non-null  float64\n",
      " 6   per_xmax         12652 non-null  float64\n",
      " 7   per_ymax         12652 non-null  float64\n",
      " 8   N_Handgun        12652 non-null  int64  \n",
      " 9   hg_xmid          12652 non-null  float64\n",
      " 10  hg_ymid          12652 non-null  float64\n",
      " 11  hg_xmin          12652 non-null  float64\n",
      " 12  hg_ymin          12652 non-null  float64\n",
      " 13  hg_xmax          12652 non-null  float64\n",
      " 14  hg_ymax          12652 non-null  float64\n",
      " 15  included_center  12652 non-null  int64  \n",
      " 16  areai            12652 non-null  float64\n",
      " 17  areah            12652 non-null  float64\n",
      " 18  dist             12652 non-null  float64\n",
      " 19  Intersection     12652 non-null  object \n",
      " 20  Ground_Truth     12652 non-null  int64  \n",
      "dtypes: float64(15), int64(5), object(1)\n",
      "memory usage: 2.0+ MB\n"
     ]
    }
   ],
   "source": [
    "df.info()"
   ]
  },
  {
   "cell_type": "code",
   "execution_count": 5,
   "id": "048f07b5",
   "metadata": {},
   "outputs": [
    {
     "data": {
      "text/plain": [
       "currentframe        1689\n",
       "N_Person               5\n",
       "per_xmid            8978\n",
       "per_ymid            8962\n",
       "per_xmin            8983\n",
       "per_ymin            8979\n",
       "per_xmax            8982\n",
       "per_ymax            8970\n",
       "N_Handgun              5\n",
       "hg_xmid             4329\n",
       "hg_ymid             4327\n",
       "hg_xmin             4331\n",
       "hg_ymin             4331\n",
       "hg_xmax             4331\n",
       "hg_ymax             4330\n",
       "included_center        2\n",
       "areai               5511\n",
       "areah               4331\n",
       "dist               12652\n",
       "Intersection           9\n",
       "Ground_Truth           2\n",
       "dtype: int64"
      ]
     },
     "execution_count": 5,
     "metadata": {},
     "output_type": "execute_result"
    }
   ],
   "source": [
    "df.nunique()"
   ]
  },
  {
   "cell_type": "code",
   "execution_count": 6,
   "id": "86b0f52d",
   "metadata": {},
   "outputs": [
    {
     "data": {
      "text/plain": [
       "0    8424\n",
       "1    4228\n",
       "Name: Ground_Truth, dtype: int64"
      ]
     },
     "execution_count": 6,
     "metadata": {},
     "output_type": "execute_result"
    }
   ],
   "source": [
    "df['Ground_Truth'].value_counts()"
   ]
  },
  {
   "cell_type": "code",
   "execution_count": 7,
   "id": "732110e8",
   "metadata": {
    "scrolled": false
   },
   "outputs": [
    {
     "data": {
      "text/html": [
       "<div>\n",
       "<style scoped>\n",
       "    .dataframe tbody tr th:only-of-type {\n",
       "        vertical-align: middle;\n",
       "    }\n",
       "\n",
       "    .dataframe tbody tr th {\n",
       "        vertical-align: top;\n",
       "    }\n",
       "\n",
       "    .dataframe thead th {\n",
       "        text-align: right;\n",
       "    }\n",
       "</style>\n",
       "<table border=\"1\" class=\"dataframe\">\n",
       "  <thead>\n",
       "    <tr style=\"text-align: right;\">\n",
       "      <th></th>\n",
       "      <th>currentframe</th>\n",
       "      <th>N_Person</th>\n",
       "      <th>per_xmid</th>\n",
       "      <th>per_ymid</th>\n",
       "      <th>per_xmin</th>\n",
       "      <th>per_ymin</th>\n",
       "      <th>per_xmax</th>\n",
       "      <th>per_ymax</th>\n",
       "      <th>N_Handgun</th>\n",
       "      <th>hg_xmid</th>\n",
       "      <th>...</th>\n",
       "      <th>Ground_Truth</th>\n",
       "      <th>Intersection_Center_left</th>\n",
       "      <th>Intersection_Center_right</th>\n",
       "      <th>Intersection_Down_center</th>\n",
       "      <th>Intersection_Down_left</th>\n",
       "      <th>Intersection_Inside</th>\n",
       "      <th>Intersection_No_intersection</th>\n",
       "      <th>Intersection_Up_center</th>\n",
       "      <th>Intersection_Up_left</th>\n",
       "      <th>Intersection_Up_right</th>\n",
       "    </tr>\n",
       "  </thead>\n",
       "  <tbody>\n",
       "    <tr>\n",
       "      <th>0</th>\n",
       "      <td>0</td>\n",
       "      <td>0</td>\n",
       "      <td>474.999451</td>\n",
       "      <td>309.582947</td>\n",
       "      <td>395.377251</td>\n",
       "      <td>156.402725</td>\n",
       "      <td>554.621651</td>\n",
       "      <td>462.763168</td>\n",
       "      <td>0</td>\n",
       "      <td>409.881988</td>\n",
       "      <td>...</td>\n",
       "      <td>1</td>\n",
       "      <td>1</td>\n",
       "      <td>0</td>\n",
       "      <td>0</td>\n",
       "      <td>0</td>\n",
       "      <td>0</td>\n",
       "      <td>0</td>\n",
       "      <td>0</td>\n",
       "      <td>0</td>\n",
       "      <td>0</td>\n",
       "    </tr>\n",
       "    <tr>\n",
       "      <th>1</th>\n",
       "      <td>0</td>\n",
       "      <td>1</td>\n",
       "      <td>338.124817</td>\n",
       "      <td>308.649231</td>\n",
       "      <td>279.351261</td>\n",
       "      <td>157.656418</td>\n",
       "      <td>396.898373</td>\n",
       "      <td>459.642044</td>\n",
       "      <td>0</td>\n",
       "      <td>409.881988</td>\n",
       "      <td>...</td>\n",
       "      <td>0</td>\n",
       "      <td>0</td>\n",
       "      <td>0</td>\n",
       "      <td>0</td>\n",
       "      <td>0</td>\n",
       "      <td>0</td>\n",
       "      <td>0</td>\n",
       "      <td>0</td>\n",
       "      <td>0</td>\n",
       "      <td>1</td>\n",
       "    </tr>\n",
       "    <tr>\n",
       "      <th>2</th>\n",
       "      <td>1</td>\n",
       "      <td>0</td>\n",
       "      <td>474.938843</td>\n",
       "      <td>309.623566</td>\n",
       "      <td>395.161308</td>\n",
       "      <td>156.591705</td>\n",
       "      <td>554.716377</td>\n",
       "      <td>462.655426</td>\n",
       "      <td>0</td>\n",
       "      <td>409.638031</td>\n",
       "      <td>...</td>\n",
       "      <td>1</td>\n",
       "      <td>1</td>\n",
       "      <td>0</td>\n",
       "      <td>0</td>\n",
       "      <td>0</td>\n",
       "      <td>0</td>\n",
       "      <td>0</td>\n",
       "      <td>0</td>\n",
       "      <td>0</td>\n",
       "      <td>0</td>\n",
       "    </tr>\n",
       "    <tr>\n",
       "      <th>3</th>\n",
       "      <td>1</td>\n",
       "      <td>1</td>\n",
       "      <td>338.274475</td>\n",
       "      <td>308.534027</td>\n",
       "      <td>279.539314</td>\n",
       "      <td>157.674393</td>\n",
       "      <td>397.009636</td>\n",
       "      <td>459.393662</td>\n",
       "      <td>0</td>\n",
       "      <td>409.638031</td>\n",
       "      <td>...</td>\n",
       "      <td>0</td>\n",
       "      <td>0</td>\n",
       "      <td>0</td>\n",
       "      <td>0</td>\n",
       "      <td>0</td>\n",
       "      <td>0</td>\n",
       "      <td>0</td>\n",
       "      <td>0</td>\n",
       "      <td>0</td>\n",
       "      <td>1</td>\n",
       "    </tr>\n",
       "    <tr>\n",
       "      <th>4</th>\n",
       "      <td>2</td>\n",
       "      <td>0</td>\n",
       "      <td>475.070465</td>\n",
       "      <td>309.475372</td>\n",
       "      <td>395.484291</td>\n",
       "      <td>156.138077</td>\n",
       "      <td>554.656639</td>\n",
       "      <td>462.812668</td>\n",
       "      <td>0</td>\n",
       "      <td>409.610718</td>\n",
       "      <td>...</td>\n",
       "      <td>1</td>\n",
       "      <td>1</td>\n",
       "      <td>0</td>\n",
       "      <td>0</td>\n",
       "      <td>0</td>\n",
       "      <td>0</td>\n",
       "      <td>0</td>\n",
       "      <td>0</td>\n",
       "      <td>0</td>\n",
       "      <td>0</td>\n",
       "    </tr>\n",
       "  </tbody>\n",
       "</table>\n",
       "<p>5 rows × 29 columns</p>\n",
       "</div>"
      ],
      "text/plain": [
       "   currentframe  N_Person    per_xmid    per_ymid    per_xmin    per_ymin  \\\n",
       "0             0         0  474.999451  309.582947  395.377251  156.402725   \n",
       "1             0         1  338.124817  308.649231  279.351261  157.656418   \n",
       "2             1         0  474.938843  309.623566  395.161308  156.591705   \n",
       "3             1         1  338.274475  308.534027  279.539314  157.674393   \n",
       "4             2         0  475.070465  309.475372  395.484291  156.138077   \n",
       "\n",
       "     per_xmax    per_ymax  N_Handgun     hg_xmid  ...  Ground_Truth  \\\n",
       "0  554.621651  462.763168          0  409.881988  ...             1   \n",
       "1  396.898373  459.642044          0  409.881988  ...             0   \n",
       "2  554.716377  462.655426          0  409.638031  ...             1   \n",
       "3  397.009636  459.393662          0  409.638031  ...             0   \n",
       "4  554.656639  462.812668          0  409.610718  ...             1   \n",
       "\n",
       "   Intersection_Center_left  Intersection_Center_right  \\\n",
       "0                         1                          0   \n",
       "1                         0                          0   \n",
       "2                         1                          0   \n",
       "3                         0                          0   \n",
       "4                         1                          0   \n",
       "\n",
       "   Intersection_Down_center  Intersection_Down_left  Intersection_Inside  \\\n",
       "0                         0                       0                    0   \n",
       "1                         0                       0                    0   \n",
       "2                         0                       0                    0   \n",
       "3                         0                       0                    0   \n",
       "4                         0                       0                    0   \n",
       "\n",
       "   Intersection_No_intersection  Intersection_Up_center  Intersection_Up_left  \\\n",
       "0                             0                       0                     0   \n",
       "1                             0                       0                     0   \n",
       "2                             0                       0                     0   \n",
       "3                             0                       0                     0   \n",
       "4                             0                       0                     0   \n",
       "\n",
       "   Intersection_Up_right  \n",
       "0                      0  \n",
       "1                      1  \n",
       "2                      0  \n",
       "3                      1  \n",
       "4                      0  \n",
       "\n",
       "[5 rows x 29 columns]"
      ]
     },
     "execution_count": 7,
     "metadata": {},
     "output_type": "execute_result"
    }
   ],
   "source": [
    "df2 = pd.get_dummies(df,columns=['Intersection'])\n",
    "df2.head()"
   ]
  },
  {
   "cell_type": "code",
   "execution_count": 8,
   "id": "a246c9a2",
   "metadata": {
    "scrolled": true
   },
   "outputs": [
    {
     "name": "stdout",
     "output_type": "stream",
     "text": [
      "<class 'pandas.core.frame.DataFrame'>\n",
      "RangeIndex: 12652 entries, 0 to 12651\n",
      "Data columns (total 29 columns):\n",
      " #   Column                        Non-Null Count  Dtype  \n",
      "---  ------                        --------------  -----  \n",
      " 0   currentframe                  12652 non-null  int64  \n",
      " 1   N_Person                      12652 non-null  int64  \n",
      " 2   per_xmid                      12652 non-null  float64\n",
      " 3   per_ymid                      12652 non-null  float64\n",
      " 4   per_xmin                      12652 non-null  float64\n",
      " 5   per_ymin                      12652 non-null  float64\n",
      " 6   per_xmax                      12652 non-null  float64\n",
      " 7   per_ymax                      12652 non-null  float64\n",
      " 8   N_Handgun                     12652 non-null  int64  \n",
      " 9   hg_xmid                       12652 non-null  float64\n",
      " 10  hg_ymid                       12652 non-null  float64\n",
      " 11  hg_xmin                       12652 non-null  float64\n",
      " 12  hg_ymin                       12652 non-null  float64\n",
      " 13  hg_xmax                       12652 non-null  float64\n",
      " 14  hg_ymax                       12652 non-null  float64\n",
      " 15  included_center               12652 non-null  int64  \n",
      " 16  areai                         12652 non-null  float64\n",
      " 17  areah                         12652 non-null  float64\n",
      " 18  dist                          12652 non-null  float64\n",
      " 19  Ground_Truth                  12652 non-null  int64  \n",
      " 20  Intersection_Center_left      12652 non-null  uint8  \n",
      " 21  Intersection_Center_right     12652 non-null  uint8  \n",
      " 22  Intersection_Down_center      12652 non-null  uint8  \n",
      " 23  Intersection_Down_left        12652 non-null  uint8  \n",
      " 24  Intersection_Inside           12652 non-null  uint8  \n",
      " 25  Intersection_No_intersection  12652 non-null  uint8  \n",
      " 26  Intersection_Up_center        12652 non-null  uint8  \n",
      " 27  Intersection_Up_left          12652 non-null  uint8  \n",
      " 28  Intersection_Up_right         12652 non-null  uint8  \n",
      "dtypes: float64(15), int64(5), uint8(9)\n",
      "memory usage: 2.0 MB\n"
     ]
    }
   ],
   "source": [
    "df2.info()"
   ]
  },
  {
   "cell_type": "code",
   "execution_count": 9,
   "id": "7ceedc72",
   "metadata": {},
   "outputs": [],
   "source": [
    "X = df2.drop('Ground_Truth',axis='columns')\n",
    "y = df2.Ground_Truth"
   ]
  },
  {
   "cell_type": "code",
   "execution_count": 10,
   "id": "2b3e1bf2",
   "metadata": {},
   "outputs": [
    {
     "name": "stdout",
     "output_type": "stream",
     "text": [
      "<class 'pandas.core.frame.DataFrame'>\n",
      "RangeIndex: 12652 entries, 0 to 12651\n",
      "Data columns (total 28 columns):\n",
      " #   Column                        Non-Null Count  Dtype  \n",
      "---  ------                        --------------  -----  \n",
      " 0   currentframe                  12652 non-null  int64  \n",
      " 1   N_Person                      12652 non-null  int64  \n",
      " 2   per_xmid                      12652 non-null  float64\n",
      " 3   per_ymid                      12652 non-null  float64\n",
      " 4   per_xmin                      12652 non-null  float64\n",
      " 5   per_ymin                      12652 non-null  float64\n",
      " 6   per_xmax                      12652 non-null  float64\n",
      " 7   per_ymax                      12652 non-null  float64\n",
      " 8   N_Handgun                     12652 non-null  int64  \n",
      " 9   hg_xmid                       12652 non-null  float64\n",
      " 10  hg_ymid                       12652 non-null  float64\n",
      " 11  hg_xmin                       12652 non-null  float64\n",
      " 12  hg_ymin                       12652 non-null  float64\n",
      " 13  hg_xmax                       12652 non-null  float64\n",
      " 14  hg_ymax                       12652 non-null  float64\n",
      " 15  included_center               12652 non-null  int64  \n",
      " 16  areai                         12652 non-null  float64\n",
      " 17  areah                         12652 non-null  float64\n",
      " 18  dist                          12652 non-null  float64\n",
      " 19  Intersection_Center_left      12652 non-null  uint8  \n",
      " 20  Intersection_Center_right     12652 non-null  uint8  \n",
      " 21  Intersection_Down_center      12652 non-null  uint8  \n",
      " 22  Intersection_Down_left        12652 non-null  uint8  \n",
      " 23  Intersection_Inside           12652 non-null  uint8  \n",
      " 24  Intersection_No_intersection  12652 non-null  uint8  \n",
      " 25  Intersection_Up_center        12652 non-null  uint8  \n",
      " 26  Intersection_Up_left          12652 non-null  uint8  \n",
      " 27  Intersection_Up_right         12652 non-null  uint8  \n",
      "dtypes: float64(15), int64(4), uint8(9)\n",
      "memory usage: 1.9 MB\n"
     ]
    }
   ],
   "source": [
    "X.info()"
   ]
  },
  {
   "cell_type": "code",
   "execution_count": 11,
   "id": "069c960d",
   "metadata": {},
   "outputs": [
    {
     "data": {
      "text/plain": [
       "array([[-2.0489514 , -1.11274597,  0.33989488, -2.1566782 ,  0.3701992 ,\n",
       "        -1.65103893,  0.29602604, -3.20232235, -0.57607603,  0.56213314,\n",
       "        -2.34052204,  0.61447809, -2.12081703,  0.50958857, -2.5573473 ,\n",
       "         1.26811752, -0.06463069, -0.5915216 , -0.64579167,  2.32439971,\n",
       "        -0.27056207, -0.02352825, -0.01257389, -0.43421103, -1.13193808,\n",
       "        -0.1451333 , -0.07296436, -0.17186801],\n",
       "       [-2.0489514 , -0.06038672, -0.29356253, -2.17562215, -0.16515593,\n",
       "        -1.63665292, -0.40446314, -3.34777465, -0.57607603,  0.56213314,\n",
       "        -2.34052204,  0.61447809, -2.12081703,  0.50958857, -2.5573473 ,\n",
       "        -0.78857045, -0.46587968, -0.5915216 , -0.62883701, -0.4302186 ,\n",
       "        -0.27056207, -0.02352825, -0.01257389, -0.43421103, -1.13193808,\n",
       "        -0.1451333 , -0.07296436,  5.81841856],\n",
       "       [-2.04669759, -1.11274597,  0.33961438, -2.15585409,  0.36920283,\n",
       "        -1.6488704 ,  0.29644675, -3.20734341, -0.57607603,  0.56068317,\n",
       "        -2.3416668 ,  0.61172475, -2.12165453,  0.5094075 , -2.55882192,\n",
       "         1.26811752, -0.06252078, -0.58654974, -0.64445936,  2.32439971,\n",
       "        -0.27056207, -0.02352825, -0.01257389, -0.43421103, -1.13193808,\n",
       "        -0.1451333 , -0.07296436, -0.17186801]])"
      ]
     },
     "execution_count": 11,
     "metadata": {},
     "output_type": "execute_result"
    }
   ],
   "source": [
    "from sklearn.preprocessing import StandardScaler\n",
    "scaler = StandardScaler()\n",
    "X_scaled = scaler.fit_transform(X)\n",
    "X_scaled[:3]\n",
    "#X_scaled.shape"
   ]
  },
  {
   "cell_type": "code",
   "execution_count": 12,
   "id": "03a00d34",
   "metadata": {
    "scrolled": false
   },
   "outputs": [
    {
     "name": "stdout",
     "output_type": "stream",
     "text": [
      "[9.09106623e+02 1.05738223e+00 4.01556492e+02 4.15881999e+02\n",
      " 3.15145035e+02 3.00285205e+02 4.87967948e+02 5.31478794e+02\n",
      " 3.87211508e-01 3.15303209e+02 3.59825385e+02 2.92086914e+02\n",
      " 3.39647453e+02 3.38519504e+02 3.80003317e+02 3.83417641e-01\n",
      " 9.68300700e+02 2.15281262e+03 2.31289485e+02 1.56180841e-01\n",
      " 6.82105596e-02 5.53272210e-04 1.58077774e-04 1.58631046e-01\n",
      " 5.61650332e-01 2.06291495e-02 5.29560544e-03 2.86911160e-02]\n"
     ]
    }
   ],
   "source": [
    "print(scaler.mean_)"
   ]
  },
  {
   "cell_type": "code",
   "execution_count": 13,
   "id": "068eb759",
   "metadata": {},
   "outputs": [
    {
     "name": "stdout",
     "output_type": "stream",
     "text": [
      "[4.43693600e+02 9.50245842e-01 2.16075512e+02 4.92883235e+01\n",
      " 2.16727143e+02 8.71466305e+01 2.25161619e+02 2.14580602e+01\n",
      " 6.72153476e-01 1.68249783e+02 7.25382729e+01 1.65957845e+02\n",
      " 7.71079606e+01 1.71079386e+02 6.88302982e+01 4.86218627e-01\n",
      " 1.90893059e+03 2.14921043e+03 1.47367328e+02 3.63026701e-01\n",
      " 2.52106880e-01 2.35152312e-02 1.25719046e-02 3.65331682e-01\n",
      " 4.96184680e-01 1.42139325e-01 7.25779719e-02 1.66936922e-01]\n"
     ]
    }
   ],
   "source": [
    "print(scaler.scale_)"
   ]
  },
  {
   "cell_type": "code",
   "execution_count": 14,
   "id": "e1aff0ec",
   "metadata": {},
   "outputs": [],
   "source": [
    "from sklearn.model_selection import  train_test_split\n",
    "X_train, X_test, y_train, y_test = train_test_split(X_scaled, y, stratify=y, random_state=10) #stratify hace que el ratio entre 0 y 1 se mantenga en la distri. entre el test(y). "
   ]
  },
  {
   "cell_type": "code",
   "execution_count": 15,
   "id": "7bf4e35f",
   "metadata": {},
   "outputs": [
    {
     "data": {
      "text/plain": [
       "(9489, 28)"
      ]
     },
     "execution_count": 15,
     "metadata": {},
     "output_type": "execute_result"
    }
   ],
   "source": [
    "X_train.shape"
   ]
  },
  {
   "cell_type": "code",
   "execution_count": 16,
   "id": "4a5d365e",
   "metadata": {},
   "outputs": [
    {
     "data": {
      "text/plain": [
       "0    6318\n",
       "1    3171\n",
       "Name: Ground_Truth, dtype: int64"
      ]
     },
     "execution_count": 16,
     "metadata": {},
     "output_type": "execute_result"
    }
   ],
   "source": [
    "y_train.value_counts()"
   ]
  },
  {
   "cell_type": "code",
   "execution_count": 17,
   "id": "c2abe820",
   "metadata": {},
   "outputs": [
    {
     "data": {
      "text/plain": [
       "0.5018993352326686"
      ]
     },
     "execution_count": 17,
     "metadata": {},
     "output_type": "execute_result"
    }
   ],
   "source": [
    "3171/6318"
   ]
  },
  {
   "cell_type": "code",
   "execution_count": 18,
   "id": "ce066839",
   "metadata": {},
   "outputs": [
    {
     "data": {
      "text/plain": [
       "(3163, 28)"
      ]
     },
     "execution_count": 18,
     "metadata": {},
     "output_type": "execute_result"
    }
   ],
   "source": [
    "X_test.shape"
   ]
  },
  {
   "cell_type": "code",
   "execution_count": 19,
   "id": "d93cdfdf",
   "metadata": {
    "scrolled": true
   },
   "outputs": [
    {
     "data": {
      "text/plain": [
       "0    2106\n",
       "1    1057\n",
       "Name: Ground_Truth, dtype: int64"
      ]
     },
     "execution_count": 19,
     "metadata": {},
     "output_type": "execute_result"
    }
   ],
   "source": [
    "y_test.value_counts()"
   ]
  },
  {
   "cell_type": "code",
   "execution_count": 20,
   "id": "312216ce",
   "metadata": {},
   "outputs": [
    {
     "data": {
      "text/plain": [
       "0.5018993352326686"
      ]
     },
     "execution_count": 20,
     "metadata": {},
     "output_type": "execute_result"
    }
   ],
   "source": [
    "1057/2106"
   ]
  },
  {
   "cell_type": "code",
   "execution_count": 21,
   "id": "1a48745d",
   "metadata": {
    "scrolled": true
   },
   "outputs": [
    {
     "data": {
      "text/plain": [
       "array([[9.99997050e-01, 2.94954782e-06],\n",
       "       [2.56194067e-05, 9.99974381e-01],\n",
       "       [9.99999881e-01, 1.19406899e-07],\n",
       "       ...,\n",
       "       [1.00000000e+00, 1.34362395e-20],\n",
       "       [1.05824315e-08, 9.99999989e-01],\n",
       "       [9.99999724e-01, 2.75846796e-07]])"
      ]
     },
     "execution_count": 21,
     "metadata": {},
     "output_type": "execute_result"
    }
   ],
   "source": [
    "from sklearn.neural_network import MLPClassifier\n",
    "mlp=MLPClassifier(hidden_layer_sizes=(25,25,25,25), max_iter=500, alpha=0.0001, solver='adam',\n",
    "                 random_state=123, tol=0.000000001)\n",
    "mlp.fit(X_train,y_train)\n",
    "predictions_mlp=mlp.predict_proba(X_test)\n",
    "predictions_mlp"
   ]
  },
  {
   "cell_type": "code",
   "execution_count": 22,
   "id": "41597b7a",
   "metadata": {},
   "outputs": [
    {
     "data": {
      "text/plain": [
       "array([0, 1, 0, ..., 0, 1, 0], dtype=int64)"
      ]
     },
     "execution_count": 22,
     "metadata": {},
     "output_type": "execute_result"
    }
   ],
   "source": [
    "predictions_mlp=mlp.predict(X_test)\n",
    "predictions_mlp"
   ]
  },
  {
   "cell_type": "code",
   "execution_count": 23,
   "id": "de158b46",
   "metadata": {
    "scrolled": false
   },
   "outputs": [
    {
     "name": "stdout",
     "output_type": "stream",
     "text": [
      "              precision    recall  f1-score   support\n",
      "\n",
      "           0       0.99      1.00      0.99      2106\n",
      "           1       0.99      0.98      0.99      1057\n",
      "\n",
      "    accuracy                           0.99      3163\n",
      "   macro avg       0.99      0.99      0.99      3163\n",
      "weighted avg       0.99      0.99      0.99      3163\n",
      "\n"
     ]
    }
   ],
   "source": [
    "from sklearn.metrics import classification_report\n",
    "print(classification_report(y_test,predictions_mlp))"
   ]
  },
  {
   "cell_type": "code",
   "execution_count": 24,
   "id": "789db905",
   "metadata": {
    "scrolled": true
   },
   "outputs": [
    {
     "name": "stdout",
     "output_type": "stream",
     "text": [
      "Score train =  0.996733059331858\n",
      "Score test =  0.9901991779955738\n"
     ]
    }
   ],
   "source": [
    "print(\"Score train = \",mlp.score(X_train, y_train))\n",
    "print(\"Score test = \",mlp.score(X_test, y_test))"
   ]
  },
  {
   "cell_type": "code",
   "execution_count": 58,
   "id": "b4f48a20",
   "metadata": {},
   "outputs": [],
   "source": [
    "# save the model to disk\n",
    "filename = 'mlp1.sav'\n",
    "pickle.dump(mlp, open(filename, 'wb'))"
   ]
  },
  {
   "cell_type": "code",
   "execution_count": 25,
   "id": "eabb5743",
   "metadata": {},
   "outputs": [
    {
     "data": {
      "text/plain": [
       "array([[9.92391767e-01, 7.60823325e-03],\n",
       "       [7.38312755e-04, 9.99261687e-01],\n",
       "       [9.92391767e-01, 7.60823325e-03],\n",
       "       ...,\n",
       "       [9.92391767e-01, 7.60823325e-03],\n",
       "       [4.69661348e-05, 9.99953034e-01],\n",
       "       [9.92391767e-01, 7.60823325e-03]])"
      ]
     },
     "execution_count": 25,
     "metadata": {},
     "output_type": "execute_result"
    }
   ],
   "source": [
    "from sklearn.neural_network import MLPClassifier\n",
    "mlp=MLPClassifier(hidden_layer_sizes=(28,3,28,3,28), max_iter=500, alpha=0.0001, solver='adam',\n",
    "                 random_state=123, tol=0.000000001)\n",
    "mlp.fit(X_train,y_train)\n",
    "predictions_mlp=mlp.predict_proba(X_test)\n",
    "predictions_mlp"
   ]
  },
  {
   "cell_type": "code",
   "execution_count": 26,
   "id": "ad076b9d",
   "metadata": {},
   "outputs": [
    {
     "data": {
      "text/plain": [
       "array([0, 1, 0, ..., 0, 1, 0], dtype=int64)"
      ]
     },
     "execution_count": 26,
     "metadata": {},
     "output_type": "execute_result"
    }
   ],
   "source": [
    "predictions_mlp=mlp.predict(X_test)\n",
    "predictions_mlp"
   ]
  },
  {
   "cell_type": "code",
   "execution_count": 27,
   "id": "139203d8",
   "metadata": {},
   "outputs": [
    {
     "name": "stdout",
     "output_type": "stream",
     "text": [
      "              precision    recall  f1-score   support\n",
      "\n",
      "           0       0.99      0.99      0.99      2106\n",
      "           1       0.98      0.98      0.98      1057\n",
      "\n",
      "    accuracy                           0.99      3163\n",
      "   macro avg       0.99      0.99      0.99      3163\n",
      "weighted avg       0.99      0.99      0.99      3163\n",
      "\n"
     ]
    }
   ],
   "source": [
    "from sklearn.metrics import classification_report\n",
    "print(classification_report(y_test,predictions_mlp))"
   ]
  },
  {
   "cell_type": "code",
   "execution_count": 28,
   "id": "2a932e18",
   "metadata": {},
   "outputs": [
    {
     "name": "stdout",
     "output_type": "stream",
     "text": [
      "Score train =  0.9910422594583201\n",
      "Score test =  0.9886184002529245\n"
     ]
    }
   ],
   "source": [
    "print(\"Score train = \",mlp.score(X_train, y_train))\n",
    "print(\"Score test = \",mlp.score(X_test, y_test))"
   ]
  },
  {
   "cell_type": "code",
   "execution_count": null,
   "id": "2e03a57c",
   "metadata": {},
   "outputs": [],
   "source": [
    "# save the model to disk\n",
    "filename = 'mlp2.sav'\n",
    "pickle.dump(mlp, open(filename, 'wb'))"
   ]
  },
  {
   "cell_type": "markdown",
   "id": "a98ecc7b",
   "metadata": {},
   "source": [
    "# Random Forest "
   ]
  },
  {
   "cell_type": "code",
   "execution_count": 29,
   "id": "4e7c0d54",
   "metadata": {},
   "outputs": [
    {
     "name": "stdout",
     "output_type": "stream",
     "text": [
      "(10121, 28) (10121,)\n",
      "(2531, 28) (2531,)\n"
     ]
    }
   ],
   "source": [
    "from sklearn.model_selection import train_test_split\n",
    "\n",
    "train_df, test_df = train_test_split(df2, test_size=0.2, random_state=123)\n",
    "X_train_rfc, y_train_rfc = train_df.drop(columns=[\"Ground_Truth\"], axis=1), train_df[\"Ground_Truth\"]\n",
    "X_test_rfc, y_test_rfc = test_df.drop(columns=[\"Ground_Truth\"], axis=1), test_df[\"Ground_Truth\"]\n",
    "\n",
    "print(X_train_rfc.shape, y_train_rfc.shape)\n",
    "print(X_test_rfc.shape, y_test_rfc.shape)"
   ]
  },
  {
   "cell_type": "code",
   "execution_count": 30,
   "id": "6e8ac390",
   "metadata": {
    "scrolled": false
   },
   "outputs": [
    {
     "name": "stdout",
     "output_type": "stream",
     "text": [
      "mean_train =  0.9100988887186962\n",
      "mean_test =  0.9103839805844183\n"
     ]
    },
    {
     "data": {
      "text/html": [
       "<div>\n",
       "<style scoped>\n",
       "    .dataframe tbody tr th:only-of-type {\n",
       "        vertical-align: middle;\n",
       "    }\n",
       "\n",
       "    .dataframe tbody tr th {\n",
       "        vertical-align: top;\n",
       "    }\n",
       "\n",
       "    .dataframe thead th {\n",
       "        text-align: right;\n",
       "    }\n",
       "</style>\n",
       "<table border=\"1\" class=\"dataframe\">\n",
       "  <thead>\n",
       "    <tr style=\"text-align: right;\">\n",
       "      <th></th>\n",
       "      <th>fit_time</th>\n",
       "      <th>score_time</th>\n",
       "      <th>test_score</th>\n",
       "      <th>train_score</th>\n",
       "    </tr>\n",
       "  </thead>\n",
       "  <tbody>\n",
       "    <tr>\n",
       "      <th>0</th>\n",
       "      <td>0.047871</td>\n",
       "      <td>0.003026</td>\n",
       "      <td>0.914116</td>\n",
       "      <td>0.907773</td>\n",
       "    </tr>\n",
       "    <tr>\n",
       "      <th>1</th>\n",
       "      <td>0.047841</td>\n",
       "      <td>0.003019</td>\n",
       "      <td>0.937747</td>\n",
       "      <td>0.924470</td>\n",
       "    </tr>\n",
       "    <tr>\n",
       "      <th>2</th>\n",
       "      <td>0.044878</td>\n",
       "      <td>0.001992</td>\n",
       "      <td>0.895257</td>\n",
       "      <td>0.907674</td>\n",
       "    </tr>\n",
       "    <tr>\n",
       "      <th>3</th>\n",
       "      <td>0.041891</td>\n",
       "      <td>0.001992</td>\n",
       "      <td>0.902174</td>\n",
       "      <td>0.909869</td>\n",
       "    </tr>\n",
       "    <tr>\n",
       "      <th>4</th>\n",
       "      <td>0.042856</td>\n",
       "      <td>0.002992</td>\n",
       "      <td>0.911067</td>\n",
       "      <td>0.908881</td>\n",
       "    </tr>\n",
       "    <tr>\n",
       "      <th>5</th>\n",
       "      <td>0.038896</td>\n",
       "      <td>0.001995</td>\n",
       "      <td>0.915020</td>\n",
       "      <td>0.909430</td>\n",
       "    </tr>\n",
       "    <tr>\n",
       "      <th>6</th>\n",
       "      <td>0.042886</td>\n",
       "      <td>0.001995</td>\n",
       "      <td>0.913043</td>\n",
       "      <td>0.907125</td>\n",
       "    </tr>\n",
       "    <tr>\n",
       "      <th>7</th>\n",
       "      <td>0.041888</td>\n",
       "      <td>0.002992</td>\n",
       "      <td>0.905138</td>\n",
       "      <td>0.907454</td>\n",
       "    </tr>\n",
       "    <tr>\n",
       "      <th>8</th>\n",
       "      <td>0.042917</td>\n",
       "      <td>0.002962</td>\n",
       "      <td>0.899209</td>\n",
       "      <td>0.908223</td>\n",
       "    </tr>\n",
       "    <tr>\n",
       "      <th>9</th>\n",
       "      <td>0.049898</td>\n",
       "      <td>0.002990</td>\n",
       "      <td>0.911067</td>\n",
       "      <td>0.910089</td>\n",
       "    </tr>\n",
       "  </tbody>\n",
       "</table>\n",
       "</div>"
      ],
      "text/plain": [
       "   fit_time  score_time  test_score  train_score\n",
       "0  0.047871    0.003026    0.914116     0.907773\n",
       "1  0.047841    0.003019    0.937747     0.924470\n",
       "2  0.044878    0.001992    0.895257     0.907674\n",
       "3  0.041891    0.001992    0.902174     0.909869\n",
       "4  0.042856    0.002992    0.911067     0.908881\n",
       "5  0.038896    0.001995    0.915020     0.909430\n",
       "6  0.042886    0.001995    0.913043     0.907125\n",
       "7  0.041888    0.002992    0.905138     0.907454\n",
       "8  0.042917    0.002962    0.899209     0.908223\n",
       "9  0.049898    0.002990    0.911067     0.910089"
      ]
     },
     "execution_count": 30,
     "metadata": {},
     "output_type": "execute_result"
    }
   ],
   "source": [
    "from sklearn.ensemble import RandomForestClassifier\n",
    "from sklearn.model_selection import cross_validate\n",
    "\n",
    "rfc_o = RandomForestClassifier(n_estimators=10, max_depth=2)\n",
    "scores = pd.DataFrame(cross_validate(rfc_o, X_train_rfc, y_train_rfc, cv=10, return_train_score=True))\n",
    "print(\"mean_train = \", scores['train_score'].mean())\n",
    "print(\"mean_test = \", scores['test_score'].mean())\n",
    "scores"
   ]
  },
  {
   "cell_type": "code",
   "execution_count": 31,
   "id": "e3318cc9",
   "metadata": {
    "scrolled": true
   },
   "outputs": [
    {
     "name": "stdout",
     "output_type": "stream",
     "text": [
      "                         feature  importance       std\n",
      "0                   currentframe    0.000000  0.000000\n",
      "25        Intersection_Up_center    0.000000  0.000000\n",
      "22        Intersection_Down_left    0.000000  0.000000\n",
      "21      Intersection_Down_center    0.000000  0.000000\n",
      "14                       hg_ymax    0.000000  0.000000\n",
      "26          Intersection_Up_left    0.000000  0.000000\n",
      "12                       hg_ymin    0.000000  0.000000\n",
      "10                       hg_ymid    0.000000  0.000000\n",
      "27         Intersection_Up_right    0.000000  0.000000\n",
      "7                       per_ymax    0.000000  0.000000\n",
      "6                       per_xmax    0.000000  0.000000\n",
      "4                       per_xmin    0.000000  0.000000\n",
      "1                       N_Person    0.000000  0.000000\n",
      "3                       per_ymid    0.000000  0.000000\n",
      "8                      N_Handgun    0.001120  0.003361\n",
      "11                       hg_xmin    0.003350  0.010051\n",
      "17                         areah    0.008922  0.026767\n",
      "13                       hg_xmax    0.024289  0.060280\n",
      "19      Intersection_Center_left    0.028171  0.084513\n",
      "2                       per_xmid    0.028235  0.075612\n",
      "5                       per_ymin    0.033848  0.041472\n",
      "9                        hg_xmid    0.072280  0.199841\n",
      "18                          dist    0.081095  0.233065\n",
      "20     Intersection_Center_right    0.097901  0.210690\n",
      "23           Intersection_Inside    0.121332  0.277033\n",
      "16                         areai    0.151000  0.303808\n",
      "24  Intersection_No_intersection    0.170514  0.324306\n",
      "15               included_center    0.177941  0.356597\n"
     ]
    },
    {
     "data": {
      "image/png": "[encoded data removed]",
      "text/plain": [
       "<Figure size 800x600 with 1 Axes>"
      ]
     },
     "metadata": {},
     "output_type": "display_data"
    }
   ],
   "source": [
    "rfc_o.fit(X_train_rfc.values, y_train_rfc.values)\n",
    "predictions_rfc_o=rfc_o.predict(X_test_rfc.values)\n",
    "#Le agrego .values para solucionar el problema:\n",
    "#C:\\ProgramData\\Anaconda3\\lib\\site-packages\\sklearn\\base.py:450: UserWarning: X does not have valid feature names, but RandomForestClassifier was fitted with feature names\n",
    "#https://stackoverflow.com/questions/69326639/sklearn-warning-valid-feature-names-in-version-1-0\n",
    "\n",
    "importances = rfc_o.feature_importances_\n",
    "std = np.std([tree.feature_importances_ for tree in rfc_o.estimators_], axis=0)\n",
    "\n",
    "df = pd.DataFrame({'feature': X_train_rfc.columns, 'importance': importances, 'std': std})\n",
    "df = df.sort_values('importance')\n",
    "print(df)\n",
    "\n",
    "ax = df.plot(figsize=(8,6),kind='barh', xerr='std', x='feature', legend=False)\n",
    "ax.set_ylabel('')\n",
    "\n",
    "plt.tight_layout()\n",
    "plt.show()"
   ]
  },
  {
   "cell_type": "code",
   "execution_count": 32,
   "id": "382ee683",
   "metadata": {},
   "outputs": [
    {
     "name": "stderr",
     "output_type": "stream",
     "text": [
      "C:\\ProgramData\\Anaconda3\\envs\\entornoGPU\\lib\\site-packages\\sklearn\\base.py:444: UserWarning: X has feature names, but RandomForestClassifier was fitted without feature names\n",
      "  f\"X has feature names, but {self.__class__.__name__} was fitted without\"\n"
     ]
    },
    {
     "data": {
      "text/plain": [
       "array([0, 0, 1, ..., 0, 0, 0], dtype=int64)"
      ]
     },
     "execution_count": 32,
     "metadata": {},
     "output_type": "execute_result"
    }
   ],
   "source": [
    "predictions_rfc_o=rfc_o.predict(X_test_rfc)\n",
    "predictions_rfc_o"
   ]
  },
  {
   "cell_type": "code",
   "execution_count": 33,
   "id": "a7174896",
   "metadata": {},
   "outputs": [
    {
     "name": "stdout",
     "output_type": "stream",
     "text": [
      "              precision    recall  f1-score   support\n",
      "\n",
      "           0       0.98      0.89      0.94      1710\n",
      "           1       0.81      0.97      0.88       821\n",
      "\n",
      "    accuracy                           0.92      2531\n",
      "   macro avg       0.90      0.93      0.91      2531\n",
      "weighted avg       0.93      0.92      0.92      2531\n",
      "\n"
     ]
    }
   ],
   "source": [
    "from sklearn.metrics import classification_report\n",
    "print(classification_report(y_test_rfc,predictions_rfc_o))"
   ]
  },
  {
   "cell_type": "code",
   "execution_count": 22,
   "id": "177458b8",
   "metadata": {},
   "outputs": [],
   "source": [
    "# save the model to disk\n",
    "filename = 'rfc1.sav'\n",
    "pickle.dump(rfc_o, open(filename, 'wb'))"
   ]
  },
  {
   "cell_type": "code",
   "execution_count": 34,
   "id": "959d02df",
   "metadata": {},
   "outputs": [
    {
     "name": "stdout",
     "output_type": "stream",
     "text": [
      "mean_train =  0.9442522821613976\n",
      "mean_test =  0.9414089172769803\n"
     ]
    },
    {
     "data": {
      "text/html": [
       "<div>\n",
       "<style scoped>\n",
       "    .dataframe tbody tr th:only-of-type {\n",
       "        vertical-align: middle;\n",
       "    }\n",
       "\n",
       "    .dataframe tbody tr th {\n",
       "        vertical-align: top;\n",
       "    }\n",
       "\n",
       "    .dataframe thead th {\n",
       "        text-align: right;\n",
       "    }\n",
       "</style>\n",
       "<table border=\"1\" class=\"dataframe\">\n",
       "  <thead>\n",
       "    <tr style=\"text-align: right;\">\n",
       "      <th></th>\n",
       "      <th>fit_time</th>\n",
       "      <th>score_time</th>\n",
       "      <th>test_score</th>\n",
       "      <th>train_score</th>\n",
       "    </tr>\n",
       "  </thead>\n",
       "  <tbody>\n",
       "    <tr>\n",
       "      <th>0</th>\n",
       "      <td>0.076825</td>\n",
       "      <td>0.002990</td>\n",
       "      <td>0.941757</td>\n",
       "      <td>0.940382</td>\n",
       "    </tr>\n",
       "    <tr>\n",
       "      <th>1</th>\n",
       "      <td>0.068816</td>\n",
       "      <td>0.002992</td>\n",
       "      <td>0.951581</td>\n",
       "      <td>0.952574</td>\n",
       "    </tr>\n",
       "    <tr>\n",
       "      <th>2</th>\n",
       "      <td>0.070810</td>\n",
       "      <td>0.002989</td>\n",
       "      <td>0.944664</td>\n",
       "      <td>0.954660</td>\n",
       "    </tr>\n",
       "    <tr>\n",
       "      <th>3</th>\n",
       "      <td>0.065794</td>\n",
       "      <td>0.002992</td>\n",
       "      <td>0.924901</td>\n",
       "      <td>0.928752</td>\n",
       "    </tr>\n",
       "    <tr>\n",
       "      <th>4</th>\n",
       "      <td>0.065851</td>\n",
       "      <td>0.002992</td>\n",
       "      <td>0.947628</td>\n",
       "      <td>0.950818</td>\n",
       "    </tr>\n",
       "    <tr>\n",
       "      <th>5</th>\n",
       "      <td>0.069813</td>\n",
       "      <td>0.001997</td>\n",
       "      <td>0.948617</td>\n",
       "      <td>0.943572</td>\n",
       "    </tr>\n",
       "    <tr>\n",
       "      <th>6</th>\n",
       "      <td>0.067849</td>\n",
       "      <td>0.002991</td>\n",
       "      <td>0.958498</td>\n",
       "      <td>0.954331</td>\n",
       "    </tr>\n",
       "    <tr>\n",
       "      <th>7</th>\n",
       "      <td>0.064828</td>\n",
       "      <td>0.002991</td>\n",
       "      <td>0.927866</td>\n",
       "      <td>0.938742</td>\n",
       "    </tr>\n",
       "    <tr>\n",
       "      <th>8</th>\n",
       "      <td>0.065826</td>\n",
       "      <td>0.002990</td>\n",
       "      <td>0.940711</td>\n",
       "      <td>0.943243</td>\n",
       "    </tr>\n",
       "    <tr>\n",
       "      <th>9</th>\n",
       "      <td>0.065818</td>\n",
       "      <td>0.002991</td>\n",
       "      <td>0.927866</td>\n",
       "      <td>0.935448</td>\n",
       "    </tr>\n",
       "  </tbody>\n",
       "</table>\n",
       "</div>"
      ],
      "text/plain": [
       "   fit_time  score_time  test_score  train_score\n",
       "0  0.076825    0.002990    0.941757     0.940382\n",
       "1  0.068816    0.002992    0.951581     0.952574\n",
       "2  0.070810    0.002989    0.944664     0.954660\n",
       "3  0.065794    0.002992    0.924901     0.928752\n",
       "4  0.065851    0.002992    0.947628     0.950818\n",
       "5  0.069813    0.001997    0.948617     0.943572\n",
       "6  0.067849    0.002991    0.958498     0.954331\n",
       "7  0.064828    0.002991    0.927866     0.938742\n",
       "8  0.065826    0.002990    0.940711     0.943243\n",
       "9  0.065818    0.002991    0.927866     0.935448"
      ]
     },
     "execution_count": 34,
     "metadata": {},
     "output_type": "execute_result"
    }
   ],
   "source": [
    "from sklearn.ensemble import RandomForestClassifier\n",
    "from sklearn.model_selection import cross_validate\n",
    "\n",
    "rfc_o = RandomForestClassifier(n_estimators=10, max_depth=4)\n",
    "scores = pd.DataFrame(cross_validate(rfc_o, X_train_rfc, y_train_rfc, cv=10, return_train_score=True))\n",
    "print(\"mean_train = \", scores['train_score'].mean())\n",
    "print(\"mean_test = \", scores['test_score'].mean())\n",
    "scores"
   ]
  },
  {
   "cell_type": "code",
   "execution_count": 35,
   "id": "981ad081",
   "metadata": {},
   "outputs": [
    {
     "name": "stdout",
     "output_type": "stream",
     "text": [
      "                         feature  importance       std\n",
      "22        Intersection_Down_left    0.000000  0.000000\n",
      "21      Intersection_Down_center    0.000000  0.000000\n",
      "8                      N_Handgun    0.000000  0.000000\n",
      "14                       hg_ymax    0.000214  0.000642\n",
      "1                       N_Person    0.000308  0.000635\n",
      "26          Intersection_Up_left    0.000880  0.001787\n",
      "13                       hg_xmax    0.002348  0.004129\n",
      "27         Intersection_Up_right    0.002560  0.007680\n",
      "7                       per_ymax    0.002780  0.002956\n",
      "25        Intersection_Up_center    0.002837  0.007272\n",
      "10                       hg_ymid    0.003365  0.005850\n",
      "9                        hg_xmid    0.005079  0.008813\n",
      "5                       per_ymin    0.007651  0.010686\n",
      "17                         areah    0.008365  0.014004\n",
      "6                       per_xmax    0.008786  0.018190\n",
      "12                       hg_ymin    0.009660  0.014011\n",
      "3                       per_ymid    0.010331  0.014824\n",
      "0                   currentframe    0.012702  0.023664\n",
      "23           Intersection_Inside    0.013398  0.040194\n",
      "2                       per_xmid    0.013867  0.026547\n",
      "20     Intersection_Center_right    0.020986  0.041713\n",
      "11                       hg_xmin    0.027783  0.058152\n",
      "4                       per_xmin    0.031647  0.029014\n",
      "24  Intersection_No_intersection    0.035680  0.070146\n",
      "18                          dist    0.037590  0.071110\n",
      "19      Intersection_Center_left    0.080543  0.120016\n",
      "16                         areai    0.275478  0.291470\n",
      "15               included_center    0.385161  0.354654\n"
     ]
    },
    {
     "data": {
      "image/png": "[encoded data removed]",
      "text/plain": [
       "<Figure size 800x600 with 1 Axes>"
      ]
     },
     "metadata": {},
     "output_type": "display_data"
    }
   ],
   "source": [
    "rfc_o.fit(X_train_rfc.values, y_train_rfc.values)\n",
    "predictions_rfc_o=rfc_o.predict(X_test_rfc.values)\n",
    "#Le agrego .values para solucionar el problema:\n",
    "#C:\\ProgramData\\Anaconda3\\lib\\site-packages\\sklearn\\base.py:450: UserWarning: X does not have valid feature names, but RandomForestClassifier was fitted with feature names\n",
    "#https://stackoverflow.com/questions/69326639/sklearn-warning-valid-feature-names-in-version-1-0\n",
    "\n",
    "importances = rfc_o.feature_importances_\n",
    "std = np.std([tree.feature_importances_ for tree in rfc_o.estimators_], axis=0)\n",
    "\n",
    "df = pd.DataFrame({'feature': X_train_rfc.columns, 'importance': importances, 'std': std})\n",
    "df = df.sort_values('importance')\n",
    "print(df)\n",
    "\n",
    "ax = df.plot(figsize=(8,6),kind='barh', xerr='std', x='feature', legend=False)\n",
    "ax.set_ylabel('')\n",
    "\n",
    "plt.tight_layout()\n",
    "plt.show()"
   ]
  },
  {
   "cell_type": "code",
   "execution_count": 36,
   "id": "2be86c6a",
   "metadata": {},
   "outputs": [
    {
     "name": "stderr",
     "output_type": "stream",
     "text": [
      "C:\\ProgramData\\Anaconda3\\envs\\entornoGPU\\lib\\site-packages\\sklearn\\base.py:444: UserWarning: X has feature names, but RandomForestClassifier was fitted without feature names\n",
      "  f\"X has feature names, but {self.__class__.__name__} was fitted without\"\n"
     ]
    },
    {
     "data": {
      "text/plain": [
       "array([0, 0, 1, ..., 0, 0, 0], dtype=int64)"
      ]
     },
     "execution_count": 36,
     "metadata": {},
     "output_type": "execute_result"
    }
   ],
   "source": [
    "predictions_rfc_o=rfc_o.predict(X_test_rfc)\n",
    "predictions_rfc_o"
   ]
  },
  {
   "cell_type": "code",
   "execution_count": 37,
   "id": "c0f60f88",
   "metadata": {},
   "outputs": [
    {
     "name": "stdout",
     "output_type": "stream",
     "text": [
      "              precision    recall  f1-score   support\n",
      "\n",
      "           0       0.99      0.91      0.95      1710\n",
      "           1       0.84      0.98      0.90       821\n",
      "\n",
      "    accuracy                           0.93      2531\n",
      "   macro avg       0.91      0.94      0.93      2531\n",
      "weighted avg       0.94      0.93      0.93      2531\n",
      "\n"
     ]
    }
   ],
   "source": [
    "from sklearn.metrics import classification_report\n",
    "print(classification_report(y_test_rfc,predictions_rfc_o))"
   ]
  },
  {
   "cell_type": "code",
   "execution_count": null,
   "id": "ee4f8edb",
   "metadata": {},
   "outputs": [],
   "source": [
    "# save the model to disk\n",
    "filename = 'rfc2.sav'\n",
    "pickle.dump(rfc_o, open(filename, 'wb'))"
   ]
  },
  {
   "cell_type": "code",
   "execution_count": null,
   "id": "bf9c98b3",
   "metadata": {},
   "outputs": [],
   "source": []
  }
 ],
 "metadata": {
  "kernelspec": {
   "display_name": "entornoGPU",
   "language": "python",
   "name": "entornogpu"
  },
  "language_info": {
   "codemirror_mode": {
    "name": "ipython",
    "version": 3
   },
   "file_extension": ".py",
   "mimetype": "text/x-python",
   "name": "python",
   "nbconvert_exporter": "python",
   "pygments_lexer": "ipython3",
   "version": "3.7.13"
  }
 },
 "nbformat": 4,
 "nbformat_minor": 5
}
